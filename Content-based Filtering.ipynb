{
 "cells": [
  {
   "cell_type": "markdown",
   "metadata": {},
   "source": [
    "# Recommendation_Engine"
   ]
  },
  {
   "cell_type": "code",
   "execution_count": 472,
   "metadata": {},
   "outputs": [
    {
     "name": "stdout",
     "output_type": "stream",
     "text": [
      "[nltk_data] Downloading package wordnet to\n",
      "[nltk_data]     /Users/dimitriwilhelm/nltk_data...\n",
      "[nltk_data]   Package wordnet is already up-to-date!\n"
     ]
    }
   ],
   "source": [
    "import pandas as pd\n",
    "import numpy as np\n",
    "import datapreprocessing as dp\n",
    "from collections import Counter\n",
    "\n",
    "# sklearn Packages\n",
    "from sklearn.feature_extraction.text import CountVectorizer\n",
    "from sklearn.linear_model import LogisticRegression\n",
    "from sklearn.model_selection import train_test_split, cross_val_score\n",
    "from sklearn.metrics import confusion_matrix, classification_report\n",
    "from sklearn.feature_extraction.text import TfidfVectorizer\n",
    "from sklearn.decomposition import NMF, LatentDirichletAllocation\n",
    "\n",
    "# Visualization Packages\n",
    "import matplotlib.pyplot as plt\n",
    "import seaborn as sns\n",
    "sns.set()\n",
    "\n",
    "# Loading gensim and nltk libraries\n",
    "import gensim\n",
    "from gensim.utils import simple_preprocess\n",
    "from gensim.parsing.preprocessing import STOPWORDS\n",
    "from nltk.stem import WordNetLemmatizer, SnowballStemmer\n",
    "from nltk.stem.porter import *\n",
    "\n",
    "import nltk\n",
    "nltk.download('wordnet')\n",
    "from nltk.corpus import stopwords"
   ]
  },
  {
   "cell_type": "markdown",
   "metadata": {},
   "source": [
    "# Explorative Data Analysis (EDA)"
   ]
  },
  {
   "cell_type": "code",
   "execution_count": 2,
   "metadata": {},
   "outputs": [],
   "source": [
    "df_Apps=dp.getDF(\"Apps_for_Android_5.json\")"
   ]
  },
  {
   "cell_type": "code",
   "execution_count": 3,
   "metadata": {},
   "outputs": [],
   "source": [
    "df_Apps = df_Apps[:10000]"
   ]
  },
  {
   "cell_type": "markdown",
   "metadata": {},
   "source": [
    "### Reformat 'reviewTime' into a datetime"
   ]
  },
  {
   "cell_type": "code",
   "execution_count": 5,
   "metadata": {},
   "outputs": [],
   "source": [
    "df_Apps.reviewTime = pd.to_datetime(df_Apps.reviewTime)"
   ]
  },
  {
   "cell_type": "code",
   "execution_count": 6,
   "metadata": {},
   "outputs": [
    {
     "data": {
      "text/html": [
       "<div>\n",
       "<style scoped>\n",
       "    .dataframe tbody tr th:only-of-type {\n",
       "        vertical-align: middle;\n",
       "    }\n",
       "\n",
       "    .dataframe tbody tr th {\n",
       "        vertical-align: top;\n",
       "    }\n",
       "\n",
       "    .dataframe thead th {\n",
       "        text-align: right;\n",
       "    }\n",
       "</style>\n",
       "<table border=\"1\" class=\"dataframe\">\n",
       "  <thead>\n",
       "    <tr style=\"text-align: right;\">\n",
       "      <th></th>\n",
       "      <th>reviewerID</th>\n",
       "      <th>asin</th>\n",
       "      <th>reviewerName</th>\n",
       "      <th>helpful</th>\n",
       "      <th>reviewText</th>\n",
       "      <th>overall</th>\n",
       "      <th>summary</th>\n",
       "      <th>unixReviewTime</th>\n",
       "      <th>reviewTime</th>\n",
       "    </tr>\n",
       "  </thead>\n",
       "  <tbody>\n",
       "    <tr>\n",
       "      <th>0</th>\n",
       "      <td>A1N4O8VOJZTDVB</td>\n",
       "      <td>B004A9SDD8</td>\n",
       "      <td>Annette Yancey</td>\n",
       "      <td>[1, 1]</td>\n",
       "      <td>Loves the song, so he really couldn't wait to ...</td>\n",
       "      <td>3.0</td>\n",
       "      <td>Really cute</td>\n",
       "      <td>1383350400</td>\n",
       "      <td>2013-11-02</td>\n",
       "    </tr>\n",
       "    <tr>\n",
       "      <th>1</th>\n",
       "      <td>A2HQWU6HUKIEC7</td>\n",
       "      <td>B004A9SDD8</td>\n",
       "      <td>Audiobook lover \"Kathy\"</td>\n",
       "      <td>[0, 0]</td>\n",
       "      <td>Oh, how my little grandson loves this app. He'...</td>\n",
       "      <td>5.0</td>\n",
       "      <td>2-year-old loves it</td>\n",
       "      <td>1323043200</td>\n",
       "      <td>2011-12-05</td>\n",
       "    </tr>\n",
       "    <tr>\n",
       "      <th>2</th>\n",
       "      <td>A1SXASF6GYG96I</td>\n",
       "      <td>B004A9SDD8</td>\n",
       "      <td>Barbara Gibbs</td>\n",
       "      <td>[0, 0]</td>\n",
       "      <td>I found this at a perfect time since my daught...</td>\n",
       "      <td>5.0</td>\n",
       "      <td>Fun game</td>\n",
       "      <td>1337558400</td>\n",
       "      <td>2012-05-21</td>\n",
       "    </tr>\n",
       "    <tr>\n",
       "      <th>3</th>\n",
       "      <td>A2B54P9ZDYH167</td>\n",
       "      <td>B004A9SDD8</td>\n",
       "      <td>Brooke Greenstreet \"Babylove\"</td>\n",
       "      <td>[3, 4]</td>\n",
       "      <td>My 1 year old goes back to this game over and ...</td>\n",
       "      <td>5.0</td>\n",
       "      <td>We love our Monkeys!</td>\n",
       "      <td>1354752000</td>\n",
       "      <td>2012-12-06</td>\n",
       "    </tr>\n",
       "    <tr>\n",
       "      <th>4</th>\n",
       "      <td>AFOFZDTX5UC6D</td>\n",
       "      <td>B004A9SDD8</td>\n",
       "      <td>C. Galindo</td>\n",
       "      <td>[1, 1]</td>\n",
       "      <td>There are three different versions of the song...</td>\n",
       "      <td>5.0</td>\n",
       "      <td>This is my granddaughters favorite app on my K...</td>\n",
       "      <td>1391212800</td>\n",
       "      <td>2014-02-01</td>\n",
       "    </tr>\n",
       "  </tbody>\n",
       "</table>\n",
       "</div>"
      ],
      "text/plain": [
       "       reviewerID        asin                   reviewerName helpful  \\\n",
       "0  A1N4O8VOJZTDVB  B004A9SDD8                 Annette Yancey  [1, 1]   \n",
       "1  A2HQWU6HUKIEC7  B004A9SDD8        Audiobook lover \"Kathy\"  [0, 0]   \n",
       "2  A1SXASF6GYG96I  B004A9SDD8                  Barbara Gibbs  [0, 0]   \n",
       "3  A2B54P9ZDYH167  B004A9SDD8  Brooke Greenstreet \"Babylove\"  [3, 4]   \n",
       "4   AFOFZDTX5UC6D  B004A9SDD8                     C. Galindo  [1, 1]   \n",
       "\n",
       "                                          reviewText  overall  \\\n",
       "0  Loves the song, so he really couldn't wait to ...      3.0   \n",
       "1  Oh, how my little grandson loves this app. He'...      5.0   \n",
       "2  I found this at a perfect time since my daught...      5.0   \n",
       "3  My 1 year old goes back to this game over and ...      5.0   \n",
       "4  There are three different versions of the song...      5.0   \n",
       "\n",
       "                                             summary  unixReviewTime  \\\n",
       "0                                        Really cute      1383350400   \n",
       "1                                2-year-old loves it      1323043200   \n",
       "2                                           Fun game      1337558400   \n",
       "3                               We love our Monkeys!      1354752000   \n",
       "4  This is my granddaughters favorite app on my K...      1391212800   \n",
       "\n",
       "  reviewTime  \n",
       "0 2013-11-02  \n",
       "1 2011-12-05  \n",
       "2 2012-05-21  \n",
       "3 2012-12-06  \n",
       "4 2014-02-01  "
      ]
     },
     "execution_count": 6,
     "metadata": {},
     "output_type": "execute_result"
    }
   ],
   "source": [
    "df_Apps.head()"
   ]
  },
  {
   "cell_type": "markdown",
   "metadata": {},
   "source": [
    "### Filtering"
   ]
  },
  {
   "cell_type": "code",
   "execution_count": 7,
   "metadata": {},
   "outputs": [
    {
     "data": {
      "text/plain": [
       "Index(['reviewerID', 'asin', 'reviewerName', 'helpful', 'reviewText',\n",
       "       'overall', 'summary', 'unixReviewTime', 'reviewTime'],\n",
       "      dtype='object')"
      ]
     },
     "execution_count": 7,
     "metadata": {},
     "output_type": "execute_result"
    }
   ],
   "source": [
    "df_Apps.columns"
   ]
  },
  {
   "cell_type": "code",
   "execution_count": 8,
   "metadata": {},
   "outputs": [
    {
     "name": "stdout",
     "output_type": "stream",
     "text": [
      "Number of reviews for each product: asin\n",
      "B004A9SDD8     17\n",
      "B004AFQAUA     62\n",
      "B004AHBBPW     96\n",
      "B004ALVL6W     95\n",
      "B004AMAIZQ      7\n",
      "B004AMDC86      7\n",
      "B004ANC00Q     63\n",
      "B004ANE2WU      6\n",
      "B004ANMWPY    244\n",
      "B004AZH4C8     86\n",
      "B004AZSY4K     53\n",
      "B004BN3YQE     76\n",
      "B004C4FL5Y     24\n",
      "B004CN7Y4G     13\n",
      "B004DJXQDC      5\n",
      "B004DKSUXC     11\n",
      "B004DLLNFS     17\n",
      "B004DLNBDA     76\n",
      "B004DLNC4I    380\n",
      "B004DLPXAO    571\n",
      "B004DLTS4G      6\n",
      "B004DLUS4A     17\n",
      "B004DLUSD6     19\n",
      "B004DLYJCC     17\n",
      "B004DLZBU6     33\n",
      "B004DM0UII    122\n",
      "B004DM0X8U     18\n",
      "B004DM0X9O     36\n",
      "B004DM1OAQ    355\n",
      "B004DM1ZG4     14\n",
      "             ... \n",
      "B004GL88GW     65\n",
      "B004GLI2GS      9\n",
      "B004GMJKTK    283\n",
      "B004GMP53U     86\n",
      "B004GMP8AU      5\n",
      "B004GMT14Y    327\n",
      "B004GR1Q38     44\n",
      "B004GT9ET4     44\n",
      "B004GVUPFE     69\n",
      "B004GVV4T0    144\n",
      "B004GVYJCE     30\n",
      "B004GVYXTS    482\n",
      "B004GW0EW2      8\n",
      "B004GWRMWC    189\n",
      "B004GY8NTQ     42\n",
      "B004GYCF7W     96\n",
      "B004GYNPL2     58\n",
      "B004GYOQ6A     47\n",
      "B004GYVYV0    122\n",
      "B004GYY714    563\n",
      "B004GYYQLA     99\n",
      "B004GZHRR4      5\n",
      "B004H2MGOU    219\n",
      "B004H2TZTO      5\n",
      "B004H30O6Q     18\n",
      "B004H3H3VA      5\n",
      "B004H6G0TI     67\n",
      "B004H6JOZA     16\n",
      "B004H6SKWS      5\n",
      "B004H6WTJI    159\n",
      "Name: asin, Length: 113, dtype: int64\n"
     ]
    }
   ],
   "source": [
    "reviews = df_Apps['asin'].groupby(df_Apps['asin']).count()\n",
    "print('Number of reviews for each product: {}'.format(reviews))"
   ]
  },
  {
   "cell_type": "code",
   "execution_count": 9,
   "metadata": {},
   "outputs": [
    {
     "name": "stdout",
     "output_type": "stream",
     "text": [
      "Top 10 reviewed products: \n",
      "\n",
      "asin\n",
      "B004FOA84A    582\n",
      "B004DLPXAO    571\n",
      "B004GYY714    563\n",
      "B004DPCSKI    484\n",
      "B004GVYXTS    482\n",
      "B004DLNC4I    380\n",
      "B004DM1OAQ    355\n",
      "B004DPIEF6    355\n",
      "B004EBZX6W    348\n",
      "B004FRX0MY    328\n",
      "Name: asin, dtype: int64\n"
     ]
    }
   ],
   "source": [
    "reviews_sorted = reviews.sort_values(ascending=False)\n",
    "print('Top 10 reviewed products: \\n')\n",
    "print('{}'.format(reviews_sorted.head(10)))"
   ]
  },
  {
   "cell_type": "code",
   "execution_count": 10,
   "metadata": {},
   "outputs": [
    {
     "name": "stdout",
     "output_type": "stream",
     "text": [
      "Bottom 10 reviewed products: \n",
      "\n",
      "asin\n",
      "B004FKH6MG    5\n",
      "B004E32A1Q    5\n",
      "B004H3H3VA    5\n",
      "B004H2TZTO    5\n",
      "B004FG2SKU    5\n",
      "B004FFLJ8I    5\n",
      "B004GZHRR4    5\n",
      "B004EVRBJ4    5\n",
      "B004H6SKWS    5\n",
      "B004GMP8AU    5\n",
      "Name: asin, dtype: int64\n"
     ]
    }
   ],
   "source": [
    "reviews_sorted = reviews.sort_values(ascending=True)\n",
    "print('Bottom 10 reviewed products: \\n')\n",
    "print('{}'.format(reviews_sorted.head(10)))"
   ]
  },
  {
   "cell_type": "markdown",
   "metadata": {},
   "source": [
    "## DataPreProcessing"
   ]
  },
  {
   "cell_type": "markdown",
   "metadata": {},
   "source": [
    "We will perform the following steps:\n",
    "- Tokenization: Split the text into sentences and the sentences into words. Lowercase the words and remove punctuation.\n",
    "\n",
    "- Words that have fewer than 3 characters are removed.\n",
    "\n",
    "- All stopwords are removed.\n",
    "\n",
    "- Words are lemmatized - words in third person changed to first person and verbs in past and future tenses are changed into present.\n",
    "\n",
    "- Words are stemmed - words are reduced to their root form.\n"
   ]
  },
  {
   "cell_type": "code",
   "execution_count": 519,
   "metadata": {},
   "outputs": [
    {
     "name": "stdout",
     "output_type": "stream",
     "text": [
      "love\n"
     ]
    }
   ],
   "source": [
    "# Write a function to perform lemmatize and stem preprocessing steps on data set.\n",
    "\n",
    "# Define our Porter stemmer:\n",
    "ps = PorterStemmer()\n",
    "\n",
    "# The idea of stemming is to shorten the lookup and normalize sentences.\n",
    "# Many variations of words carry the same meaning, \n",
    "# other than when tense is involved.\n",
    "\n",
    "def lemmatize_stemming(text):\n",
    "    return ps.stem(WordNetLemmatizer().lemmatize(text, pos='v'))\n",
    "\n",
    "def preprocess(text):\n",
    "    result = []\n",
    "    for token in gensim.utils.simple_preprocess(text):\n",
    "        if token not in gensim.parsing.preprocessing.STOPWORDS and len(token) > 3:\n",
    "            result.append(lemmatize_stemming(token))\n",
    "    return result"
   ]
  },
  {
   "cell_type": "code",
   "execution_count": 520,
   "metadata": {},
   "outputs": [
    {
     "name": "stdout",
     "output_type": "stream",
     "text": [
      "['Oh,', 'how', 'my', 'little', 'grandson', 'loves', 'this', 'app.', \"He's\", 'always', 'asking', 'for', '\"Monkey.\"', 'Grandma', 'has', 'tired', 'of', 'it', 'long', 'before', 'he', 'has.', 'Finding', 'the', 'items', 'on', 'each', 'page', 'that', 'he', 'can', 'touch', 'and', 'activate', 'is', 'endlessly', 'entertaining', 'for', 'him,', 'at', 'least', 'for', 'now.', 'Well', 'worth', 'the', '$.99.']\n",
      "['littl', 'grandson', 'love', 'ask', 'monkey', 'grandma', 'tire', 'long', 'find', 'item', 'page', 'touch', 'activ', 'endlessli', 'entertain', 'worth']\n"
     ]
    }
   ],
   "source": [
    "# Select a review text to preview after preprocessing.\n",
    "\n",
    "review_sample = df_Apps.reviewText[1]\n",
    "words = []\n",
    "for word in review_sample.split(' '):\n",
    "    words.append(word)\n",
    "\n",
    "\n",
    "print(words)\n",
    "print(preprocess(review_sample))"
   ]
  },
  {
   "cell_type": "code",
   "execution_count": 522,
   "metadata": {},
   "outputs": [
    {
     "data": {
      "text/plain": [
       "0    [love, song, couldn, wait, play, littl, intere...\n",
       "1    [littl, grandson, love, ask, monkey, grandma, ...\n",
       "2    [perfect, time, daughter, favorit, song, momen...\n",
       "3    [year, go, game, simpl, easi, toddler, catch, ...\n",
       "4    [differ, version, song, game, keep, occupi, cl...\n",
       "5    [cute, great, littl, one, love, think, funni, ...\n",
       "6    [watch, great, grandson, day, week, hard, mont...\n",
       "7    [wild, crazi, littl, one, love, sing, song, li...\n",
       "8    [love, love, love, go, differ, app, come, exci...\n",
       "9    [cute, alot, item, awesom, say, differ, voic, ...\n",
       "Name: reviewText, dtype: object"
      ]
     },
     "execution_count": 522,
     "metadata": {},
     "output_type": "execute_result"
    }
   ],
   "source": [
    "processed_reviews = df_Apps.reviewText.map(preprocess)\n",
    "processed_reviews[:10]"
   ]
  },
  {
   "cell_type": "markdown",
   "metadata": {},
   "source": [
    "Bag of Words on the Data_set\n",
    "\n",
    "Create a dictionary from \"processed_reviews\" containing the number of times a word appears in the training_set"
   ]
  },
  {
   "cell_type": "code",
   "execution_count": 532,
   "metadata": {},
   "outputs": [
    {
     "name": "stdout",
     "output_type": "stream",
     "text": [
      "Dictionary(8757 unique tokens: ['child', 'couldn', 'cute', 'game', 'interest']...)\n",
      "0 child\n",
      "1 couldn\n",
      "2 cute\n",
      "3 game\n",
      "4 interest\n",
      "5 like\n",
      "6 littl\n",
      "7 long\n",
      "8 love\n",
      "9 older\n",
      "10 play\n"
     ]
    }
   ],
   "source": [
    "dictionary = gensim.corpora.Dictionary(processed_reviews)\n",
    "\n",
    "print(dictionary)\n",
    "count = 0\n",
    "for k, v in dictionary.iteritems():\n",
    "    print(k,v)\n",
    "    count += 1\n",
    "    if count > 10:\n",
    "        break"
   ]
  },
  {
   "cell_type": "markdown",
   "metadata": {},
   "source": [
    "Gensim filter_extremes\n",
    "\n",
    "Filter out tokens that appear in \n",
    "- less then 15 reviews (absolute number) or\n",
    "- more than 0.5 reviews\n",
    "- after the above two steps, keep only the first 100 most frequent tokens."
   ]
  },
  {
   "cell_type": "code",
   "execution_count": 536,
   "metadata": {},
   "outputs": [
    {
     "name": "stdout",
     "output_type": "stream",
     "text": [
      "Dictionary(100 unique tokens: ['game', 'interest', 'like', 'littl', 'love']...)\n"
     ]
    }
   ],
   "source": [
    "dictionary.filter_extremes(no_below=15, no_above=0.5, keep_n=100)\n",
    "print(dictionary)"
   ]
  },
  {
   "cell_type": "code",
   "execution_count": 222,
   "metadata": {},
   "outputs": [
    {
     "data": {
      "text/html": [
       "<div>\n",
       "<style scoped>\n",
       "    .dataframe tbody tr th:only-of-type {\n",
       "        vertical-align: middle;\n",
       "    }\n",
       "\n",
       "    .dataframe tbody tr th {\n",
       "        vertical-align: top;\n",
       "    }\n",
       "\n",
       "    .dataframe thead th {\n",
       "        text-align: right;\n",
       "    }\n",
       "</style>\n",
       "<table border=\"1\" class=\"dataframe\">\n",
       "  <thead>\n",
       "    <tr style=\"text-align: right;\">\n",
       "      <th></th>\n",
       "      <th>0</th>\n",
       "    </tr>\n",
       "  </thead>\n",
       "  <tbody>\n",
       "    <tr>\n",
       "      <th>0</th>\n",
       "      <td>love song realli wait play littl less interest...</td>\n",
       "    </tr>\n",
       "    <tr>\n",
       "      <th>1</th>\n",
       "      <td>oh littl grandson love app alway ask monkey gr...</td>\n",
       "    </tr>\n",
       "    <tr>\n",
       "      <th>2</th>\n",
       "      <td>found perfect time sinc daughter favorit song ...</td>\n",
       "    </tr>\n",
       "    <tr>\n",
       "      <th>3</th>\n",
       "      <td>year old goe back game simpl easi toddler use ...</td>\n",
       "    </tr>\n",
       "    <tr>\n",
       "      <th>4</th>\n",
       "      <td>three differ version song game keep occupi eve...</td>\n",
       "    </tr>\n",
       "  </tbody>\n",
       "</table>\n",
       "</div>"
      ],
      "text/plain": [
       "                                                   0\n",
       "0  love song realli wait play littl less interest...\n",
       "1  oh littl grandson love app alway ask monkey gr...\n",
       "2  found perfect time sinc daughter favorit song ...\n",
       "3  year old goe back game simpl easi toddler use ...\n",
       "4  three differ version song game keep occupi eve..."
      ]
     },
     "execution_count": 222,
     "metadata": {},
     "output_type": "execute_result"
    }
   ],
   "source": [
    "reviews = df_Apps.reviewText\n",
    "\n",
    "clean_reviewData = []\n",
    "for rev in reviews:\n",
    "    clean_reviewData.append(\" \".join(dp.data_clean(rev)))\n",
    "\n",
    "pd.DataFrame(clean_reviewData).head()"
   ]
  },
  {
   "cell_type": "code",
   "execution_count": null,
   "metadata": {},
   "outputs": [],
   "source": []
  },
  {
   "cell_type": "code",
   "execution_count": 223,
   "metadata": {},
   "outputs": [
    {
     "data": {
      "text/plain": [
       "app     7034\n",
       "game    5126\n",
       "use     3151\n",
       "like    3036\n",
       "play    2910\n",
       "dtype: int64"
      ]
     },
     "execution_count": 223,
     "metadata": {},
     "output_type": "execute_result"
    }
   ],
   "source": [
    "Most_used_Words_reviews = pd.Series(\" \".join(clean_reviewData).split()).value_counts()\n",
    "Most_used_Words_reviews.head()"
   ]
  },
  {
   "cell_type": "markdown",
   "metadata": {},
   "source": [
    "# Modelling"
   ]
  },
  {
   "cell_type": "markdown",
   "metadata": {},
   "source": [
    "### Classification/Sentiment Analysis using Logistic Regression"
   ]
  },
  {
   "cell_type": "code",
   "execution_count": 11,
   "metadata": {},
   "outputs": [
    {
     "data": {
      "text/html": [
       "<div>\n",
       "<style scoped>\n",
       "    .dataframe tbody tr th:only-of-type {\n",
       "        vertical-align: middle;\n",
       "    }\n",
       "\n",
       "    .dataframe tbody tr th {\n",
       "        vertical-align: top;\n",
       "    }\n",
       "\n",
       "    .dataframe thead th {\n",
       "        text-align: right;\n",
       "    }\n",
       "</style>\n",
       "<table border=\"1\" class=\"dataframe\">\n",
       "  <thead>\n",
       "    <tr style=\"text-align: right;\">\n",
       "      <th></th>\n",
       "      <th>reviewerID</th>\n",
       "      <th>asin</th>\n",
       "      <th>reviewerName</th>\n",
       "      <th>helpful</th>\n",
       "      <th>reviewText</th>\n",
       "      <th>overall</th>\n",
       "      <th>summary</th>\n",
       "      <th>unixReviewTime</th>\n",
       "      <th>reviewTime</th>\n",
       "      <th>pos_neg_rating</th>\n",
       "    </tr>\n",
       "  </thead>\n",
       "  <tbody>\n",
       "    <tr>\n",
       "      <th>0</th>\n",
       "      <td>A1N4O8VOJZTDVB</td>\n",
       "      <td>B004A9SDD8</td>\n",
       "      <td>Annette Yancey</td>\n",
       "      <td>[1, 1]</td>\n",
       "      <td>Loves the song, so he really couldn't wait to ...</td>\n",
       "      <td>3.0</td>\n",
       "      <td>Really cute</td>\n",
       "      <td>1383350400</td>\n",
       "      <td>2013-11-02</td>\n",
       "      <td>0</td>\n",
       "    </tr>\n",
       "    <tr>\n",
       "      <th>1</th>\n",
       "      <td>A2HQWU6HUKIEC7</td>\n",
       "      <td>B004A9SDD8</td>\n",
       "      <td>Audiobook lover \"Kathy\"</td>\n",
       "      <td>[0, 0]</td>\n",
       "      <td>Oh, how my little grandson loves this app. He'...</td>\n",
       "      <td>5.0</td>\n",
       "      <td>2-year-old loves it</td>\n",
       "      <td>1323043200</td>\n",
       "      <td>2011-12-05</td>\n",
       "      <td>1</td>\n",
       "    </tr>\n",
       "    <tr>\n",
       "      <th>2</th>\n",
       "      <td>A1SXASF6GYG96I</td>\n",
       "      <td>B004A9SDD8</td>\n",
       "      <td>Barbara Gibbs</td>\n",
       "      <td>[0, 0]</td>\n",
       "      <td>I found this at a perfect time since my daught...</td>\n",
       "      <td>5.0</td>\n",
       "      <td>Fun game</td>\n",
       "      <td>1337558400</td>\n",
       "      <td>2012-05-21</td>\n",
       "      <td>1</td>\n",
       "    </tr>\n",
       "    <tr>\n",
       "      <th>3</th>\n",
       "      <td>A2B54P9ZDYH167</td>\n",
       "      <td>B004A9SDD8</td>\n",
       "      <td>Brooke Greenstreet \"Babylove\"</td>\n",
       "      <td>[3, 4]</td>\n",
       "      <td>My 1 year old goes back to this game over and ...</td>\n",
       "      <td>5.0</td>\n",
       "      <td>We love our Monkeys!</td>\n",
       "      <td>1354752000</td>\n",
       "      <td>2012-12-06</td>\n",
       "      <td>1</td>\n",
       "    </tr>\n",
       "    <tr>\n",
       "      <th>4</th>\n",
       "      <td>AFOFZDTX5UC6D</td>\n",
       "      <td>B004A9SDD8</td>\n",
       "      <td>C. Galindo</td>\n",
       "      <td>[1, 1]</td>\n",
       "      <td>There are three different versions of the song...</td>\n",
       "      <td>5.0</td>\n",
       "      <td>This is my granddaughters favorite app on my K...</td>\n",
       "      <td>1391212800</td>\n",
       "      <td>2014-02-01</td>\n",
       "      <td>1</td>\n",
       "    </tr>\n",
       "  </tbody>\n",
       "</table>\n",
       "</div>"
      ],
      "text/plain": [
       "       reviewerID        asin                   reviewerName helpful  \\\n",
       "0  A1N4O8VOJZTDVB  B004A9SDD8                 Annette Yancey  [1, 1]   \n",
       "1  A2HQWU6HUKIEC7  B004A9SDD8        Audiobook lover \"Kathy\"  [0, 0]   \n",
       "2  A1SXASF6GYG96I  B004A9SDD8                  Barbara Gibbs  [0, 0]   \n",
       "3  A2B54P9ZDYH167  B004A9SDD8  Brooke Greenstreet \"Babylove\"  [3, 4]   \n",
       "4   AFOFZDTX5UC6D  B004A9SDD8                     C. Galindo  [1, 1]   \n",
       "\n",
       "                                          reviewText  overall  \\\n",
       "0  Loves the song, so he really couldn't wait to ...      3.0   \n",
       "1  Oh, how my little grandson loves this app. He'...      5.0   \n",
       "2  I found this at a perfect time since my daught...      5.0   \n",
       "3  My 1 year old goes back to this game over and ...      5.0   \n",
       "4  There are three different versions of the song...      5.0   \n",
       "\n",
       "                                             summary  unixReviewTime  \\\n",
       "0                                        Really cute      1383350400   \n",
       "1                                2-year-old loves it      1323043200   \n",
       "2                                           Fun game      1337558400   \n",
       "3                               We love our Monkeys!      1354752000   \n",
       "4  This is my granddaughters favorite app on my K...      1391212800   \n",
       "\n",
       "  reviewTime  pos_neg_rating  \n",
       "0 2013-11-02               0  \n",
       "1 2011-12-05               1  \n",
       "2 2012-05-21               1  \n",
       "3 2012-12-06               1  \n",
       "4 2014-02-01               1  "
      ]
     },
     "execution_count": 11,
     "metadata": {},
     "output_type": "execute_result"
    }
   ],
   "source": [
    "df_Apps['pos_neg_rating'] = [1 if x > 3 else 0 for x in df_Apps['overall']]\n",
    "df_Apps.head()"
   ]
  },
  {
   "cell_type": "code",
   "execution_count": 167,
   "metadata": {},
   "outputs": [],
   "source": [
    "X = df_Apps.reviewText\n",
    "y = df_Apps.pos_neg_rating"
   ]
  },
  {
   "cell_type": "markdown",
   "metadata": {},
   "source": [
    "### Train/Test Split"
   ]
  },
  {
   "cell_type": "code",
   "execution_count": 168,
   "metadata": {},
   "outputs": [],
   "source": [
    "X_train, X_test, y_train, y_test = train_test_split(X, y, random_state=1, test_size=0.2) "
   ]
  },
  {
   "cell_type": "code",
   "execution_count": 169,
   "metadata": {},
   "outputs": [
    {
     "name": "stdout",
     "output_type": "stream",
     "text": [
      "Train_data set size: 8000\n",
      "Train_target set size: 8000\n",
      "Test set size: 2000\n"
     ]
    }
   ],
   "source": [
    "print('Train_data set size: {}'.format(X_train.shape[0]))\n",
    "print('Train_target set size: {}'.format(y_train.shape[0]))\n",
    "print('Test set size: {}'.format(X_test.shape[0]))"
   ]
  },
  {
   "cell_type": "markdown",
   "metadata": {},
   "source": [
    "### CountVectorizer"
   ]
  },
  {
   "cell_type": "code",
   "execution_count": 170,
   "metadata": {},
   "outputs": [],
   "source": [
    "vectorizer = CountVectorizer()\n",
    "X_train = vectorizer.fit_transform(X_train)"
   ]
  },
  {
   "cell_type": "code",
   "execution_count": 171,
   "metadata": {},
   "outputs": [
    {
     "data": {
      "text/plain": [
       "LogisticRegression(C=1.0, class_weight=None, dual=False, fit_intercept=True,\n",
       "          intercept_scaling=1, max_iter=100, multi_class='ovr', n_jobs=1,\n",
       "          penalty='l2', random_state=None, solver='liblinear', tol=0.0001,\n",
       "          verbose=0, warm_start=False)"
      ]
     },
     "execution_count": 171,
     "metadata": {},
     "output_type": "execute_result"
    }
   ],
   "source": [
    "log_reg = LogisticRegression()\n",
    "log_reg.fit(X_train, y_train)"
   ]
  },
  {
   "cell_type": "code",
   "execution_count": 172,
   "metadata": {},
   "outputs": [],
   "source": [
    "cv_scores = cross_val_score(LogisticRegression(), X_train, y_train, cv = 5)"
   ]
  },
  {
   "cell_type": "code",
   "execution_count": 173,
   "metadata": {},
   "outputs": [
    {
     "name": "stdout",
     "output_type": "stream",
     "text": [
      "mean cv_accuracy: 0.8322499999999999\n"
     ]
    }
   ],
   "source": [
    "print('mean cv_accuracy: {}'.format(np.mean(cv_scores)))"
   ]
  },
  {
   "cell_type": "code",
   "execution_count": 174,
   "metadata": {},
   "outputs": [
    {
     "name": "stdout",
     "output_type": "stream",
     "text": [
      "Train set Accuracy: 0.9685\n",
      "Test set Accuracy: 0.824\n"
     ]
    }
   ],
   "source": [
    "X_test = vectorizer.transform(X_test)\n",
    "print('Train set Accuracy: {}'.format(log_reg.score(X_train, y_train)))\n",
    "print('Test set Accuracy: {}'.format(log_reg.score(X_test, y_test)))"
   ]
  },
  {
   "cell_type": "markdown",
   "metadata": {},
   "source": [
    "## Classification Report"
   ]
  },
  {
   "cell_type": "markdown",
   "metadata": {},
   "source": [
    "### Report includes precision, recall and f1-score"
   ]
  },
  {
   "cell_type": "code",
   "execution_count": 175,
   "metadata": {},
   "outputs": [
    {
     "name": "stdout",
     "output_type": "stream",
     "text": [
      "             precision    recall  f1-score   support\n",
      "\n",
      "    class 0       0.70      0.63      0.66       548\n",
      "    class 1       0.86      0.90      0.88      1452\n",
      "\n",
      "avg / total       0.82      0.82      0.82      2000\n",
      "\n"
     ]
    }
   ],
   "source": [
    "target_name = ['class 0', 'class 1']\n",
    "print(classification_report(y_test, y_pred, target_names=target_name))"
   ]
  },
  {
   "cell_type": "markdown",
   "metadata": {},
   "source": [
    "### confusion matrix allows us to look at the particular misclassified examples."
   ]
  },
  {
   "cell_type": "code",
   "execution_count": 176,
   "metadata": {},
   "outputs": [],
   "source": [
    "cm = confusion_matrix(y_test, log_reg.predict(X_test))"
   ]
  },
  {
   "cell_type": "code",
   "execution_count": 177,
   "metadata": {},
   "outputs": [],
   "source": [
    "cm_normalized = cm.astype('float') / cm.sum(axis=1)[:, np.newaxis]"
   ]
  },
  {
   "cell_type": "code",
   "execution_count": 178,
   "metadata": {},
   "outputs": [
    {
     "data": {
      "text/plain": [
       "array([[0.62773723, 0.37226277],\n",
       "       [0.10192837, 0.89807163]])"
      ]
     },
     "execution_count": 178,
     "metadata": {},
     "output_type": "execute_result"
    }
   ],
   "source": [
    "cm_normalized"
   ]
  },
  {
   "cell_type": "code",
   "execution_count": 179,
   "metadata": {},
   "outputs": [
    {
     "data": {
      "image/png": "[encoded data removed]",
      "text/plain": [
       "<Figure size 432x288 with 2 Axes>"
      ]
     },
     "metadata": {},
     "output_type": "display_data"
    }
   ],
   "source": [
    "cm = pd.DataFrame(cm)\n",
    "plt.imshow(cm, interpolation='nearest', cmap=plt.cm.Blues)\n",
    "plt.title('Confusion_Matrix')\n",
    "plt.colorbar()\n",
    "tick_marks = np.arange(len(target_name))\n",
    "plt.xticks(tick_marks, target_name, rotation=45)\n",
    "plt.yticks(tick_marks, target_name)\n",
    "\n",
    "\n",
    "for i in range(cm.shape[0]):\n",
    "    for j in range(cm.shape[1]):\n",
    "        plt.text(i, j, cm.iloc[i, j],\n",
    "            horizontalalignment=\"center\",\n",
    "            color=\"black\")\n",
    "\n",
    "plt.ylabel('True label')\n",
    "plt.xlabel('Predicted label')\n",
    "plt.show()"
   ]
  },
  {
   "cell_type": "code",
   "execution_count": 180,
   "metadata": {},
   "outputs": [
    {
     "data": {
      "image/png": "[encoded data removed]",
      "text/plain": [
       "<Figure size 432x288 with 2 Axes>"
      ]
     },
     "metadata": {},
     "output_type": "display_data"
    }
   ],
   "source": [
    "cm_normalized = pd.DataFrame(cm_normalized)\n",
    "plt.imshow(cm_normalized, interpolation='nearest', cmap=plt.cm.Blues)\n",
    "plt.title('Confusion_Matrix')\n",
    "plt.colorbar()\n",
    "tick_marks = np.arange(len(target_name))\n",
    "plt.xticks(tick_marks, target_name, rotation=45)\n",
    "plt.yticks(tick_marks, target_name)\n",
    "\n",
    "#format(cm[i, j], fmt)\n",
    "\n",
    "for i in range(cm_normalized.shape[0]):\n",
    "    for j in range(cm_normalized.shape[1]):\n",
    "        plt.text(i, j, cm_normalized.iloc[i, j],\n",
    "            horizontalalignment=\"center\",\n",
    "            color=\"black\")\n",
    "\n",
    "plt.ylabel('True label')\n",
    "plt.xlabel('Predicted label')\n",
    "plt.show()"
   ]
  },
  {
   "cell_type": "markdown",
   "metadata": {},
   "source": [
    "## Clustering and Topic Modeling"
   ]
  },
  {
   "cell_type": "markdown",
   "metadata": {},
   "source": [
    "### Topic extraction with Non-negative Matrix Factorization and Latent Dirichlet Allocation"
   ]
  },
  {
   "cell_type": "markdown",
   "metadata": {},
   "source": [
    "### CountVectorizer and Tf-idf"
   ]
  },
  {
   "cell_type": "markdown",
   "metadata": {},
   "source": [
    "TF-IDF stands for \"Term Frequency, Inverse Document Frequency\". It is a way to score the importance of words in a document based on how frequently they appear across multiple documents.\n",
    "\n",
    "Intuively:\n",
    "- If a word appears frequently in a document, it's important. Give the word a high score.\n",
    "- If a word appears in many documents, it's not a unique identifier. Give the word a low score.\n",
    "\n",
    "That's why, common words like \"the\" and \"for\", which appear in many documents, will be scaled down. Words that appear frequently in a single document will be scaled up."
   ]
  },
  {
   "cell_type": "code",
   "execution_count": 405,
   "metadata": {},
   "outputs": [],
   "source": [
    "X_review = df_Apps.reviewText"
   ]
  },
  {
   "cell_type": "code",
   "execution_count": 430,
   "metadata": {},
   "outputs": [
    {
     "name": "stdout",
     "output_type": "stream",
     "text": [
      "Extracting tf-idf features for NMF\n",
      "Number of total features: 14717\n"
     ]
    }
   ],
   "source": [
    "# Use tf_idf vectorizer for NMF\n",
    "print('Extracting tf-idf features for NMF')\n",
    "tfidf_vectorizer = TfidfVectorizer(stop_words=stops)\n",
    "tfidf = vectorizer.fit_transform(X_review)\n",
    "tfidf_feature_names = vectorizer.get_feature_names() \n",
    "print('Number of total features: {}'.format(len(tfidf_feature_names)))"
   ]
  },
  {
   "cell_type": "code",
   "execution_count": 443,
   "metadata": {},
   "outputs": [
    {
     "name": "stdout",
     "output_type": "stream",
     "text": [
      "Number of total features: 14575\n"
     ]
    }
   ],
   "source": [
    "tf_vectorizer = CountVectorizer(stop_words=stops)\n",
    "tf = tf_vectorizer.fit_transform(X_review)\n",
    "tf_feature_names = tf_vectorizer.get_feature_names()\n",
    "\n",
    "print('Number of total features: {}'.format(len(tf_feature_names)))"
   ]
  },
  {
   "cell_type": "markdown",
   "metadata": {},
   "source": [
    "### Nonnegative Matrix Factorization (NMF) - Term frequency (tf)"
   ]
  },
  {
   "cell_type": "code",
   "execution_count": 423,
   "metadata": {},
   "outputs": [],
   "source": [
    "### We use NMF for topic extraction"
   ]
  },
  {
   "cell_type": "code",
   "execution_count": 424,
   "metadata": {},
   "outputs": [],
   "source": [
    "# Initialize NMF\n",
    "nmf = NMF(n_components=10, random_state=1, alpha=.1, l1_ratio=.5)"
   ]
  },
  {
   "cell_type": "code",
   "execution_count": 425,
   "metadata": {},
   "outputs": [],
   "source": [
    "n_top_words = 15\n",
    "\n",
    "def print_top_words(model, feature_names, n_top_words):\n",
    "    for topic_idx, topic in enumerate(model.components_):\n",
    "        print(\"Topic #{}:\".format(topic_idx), end='\\n')\n",
    "        print(\" \".join([feature_names[i]\n",
    "                        for i in topic.argsort()[:-n_top_words - 1:-1]]), end='\\n\\n')\n",
    "    print()"
   ]
  },
  {
   "cell_type": "code",
   "execution_count": 432,
   "metadata": {},
   "outputs": [],
   "source": [
    "nmf_tf = nmf.fit(tf)\n",
    "nmf_1 = nmf_tf.transform(tf)\n",
    "#Counter([np.argmax(i) for i in nmf_])"
   ]
  },
  {
   "cell_type": "code",
   "execution_count": 446,
   "metadata": {},
   "outputs": [
    {
     "name": "stdout",
     "output_type": "stream",
     "text": [
      "\n",
      "Topics in NMF model:\n",
      "Topic #0:\n",
      "java nuts ca literary jail youtube kids formerly sort dolby door records thrie jerks doubts\n",
      "\n",
      "Topic #1:\n",
      "gather police g2 timeminimal jail polygon grab gb groundbreaking mac chapters andriod literary entity wagon\n",
      "\n",
      "Topic #2:\n"
     ]
    },
    {
     "ename": "IndexError",
     "evalue": "list index out of range",
     "output_type": "error",
     "traceback": [
      "\u001b[0;31m---------------------------------------------------------------------------\u001b[0m",
      "\u001b[0;31mIndexError\u001b[0m                                Traceback (most recent call last)",
      "\u001b[0;32m<ipython-input-446-54383f96d84f>\u001b[0m in \u001b[0;36m<module>\u001b[0;34m()\u001b[0m\n\u001b[1;32m      1\u001b[0m \u001b[0;31m# Output is a list of topics\u001b[0m\u001b[0;34m\u001b[0m\u001b[0;34m\u001b[0m\u001b[0m\n\u001b[1;32m      2\u001b[0m \u001b[0mprint\u001b[0m\u001b[0;34m(\u001b[0m\u001b[0;34m\"\\nTopics in NMF model:\"\u001b[0m\u001b[0;34m)\u001b[0m\u001b[0;34m\u001b[0m\u001b[0m\n\u001b[0;32m----> 3\u001b[0;31m \u001b[0mprint_top_words\u001b[0m\u001b[0;34m(\u001b[0m\u001b[0mnmf_tf\u001b[0m\u001b[0;34m,\u001b[0m \u001b[0mtf_feature_names\u001b[0m\u001b[0;34m,\u001b[0m \u001b[0mn_top_words\u001b[0m\u001b[0;34m)\u001b[0m\u001b[0;34m\u001b[0m\u001b[0m\n\u001b[0m",
      "\u001b[0;32m<ipython-input-425-01053c7aa53f>\u001b[0m in \u001b[0;36mprint_top_words\u001b[0;34m(model, feature_names, n_top_words)\u001b[0m\n\u001b[1;32m      5\u001b[0m         \u001b[0mprint\u001b[0m\u001b[0;34m(\u001b[0m\u001b[0;34m\"Topic #{}:\"\u001b[0m\u001b[0;34m.\u001b[0m\u001b[0mformat\u001b[0m\u001b[0;34m(\u001b[0m\u001b[0mtopic_idx\u001b[0m\u001b[0;34m)\u001b[0m\u001b[0;34m,\u001b[0m \u001b[0mend\u001b[0m\u001b[0;34m=\u001b[0m\u001b[0;34m'\\n'\u001b[0m\u001b[0;34m)\u001b[0m\u001b[0;34m\u001b[0m\u001b[0m\n\u001b[1;32m      6\u001b[0m         print(\" \".join([feature_names[i]\n\u001b[0;32m----> 7\u001b[0;31m                         for i in topic.argsort()[:-n_top_words - 1:-1]]), end='\\n\\n')\n\u001b[0m\u001b[1;32m      8\u001b[0m     \u001b[0mprint\u001b[0m\u001b[0;34m(\u001b[0m\u001b[0;34m)\u001b[0m\u001b[0;34m\u001b[0m\u001b[0m\n",
      "\u001b[0;32m<ipython-input-425-01053c7aa53f>\u001b[0m in \u001b[0;36m<listcomp>\u001b[0;34m(.0)\u001b[0m\n\u001b[1;32m      5\u001b[0m         \u001b[0mprint\u001b[0m\u001b[0;34m(\u001b[0m\u001b[0;34m\"Topic #{}:\"\u001b[0m\u001b[0;34m.\u001b[0m\u001b[0mformat\u001b[0m\u001b[0;34m(\u001b[0m\u001b[0mtopic_idx\u001b[0m\u001b[0;34m)\u001b[0m\u001b[0;34m,\u001b[0m \u001b[0mend\u001b[0m\u001b[0;34m=\u001b[0m\u001b[0;34m'\\n'\u001b[0m\u001b[0;34m)\u001b[0m\u001b[0;34m\u001b[0m\u001b[0m\n\u001b[1;32m      6\u001b[0m         print(\" \".join([feature_names[i]\n\u001b[0;32m----> 7\u001b[0;31m                         for i in topic.argsort()[:-n_top_words - 1:-1]]), end='\\n\\n')\n\u001b[0m\u001b[1;32m      8\u001b[0m     \u001b[0mprint\u001b[0m\u001b[0;34m(\u001b[0m\u001b[0;34m)\u001b[0m\u001b[0;34m\u001b[0m\u001b[0m\n",
      "\u001b[0;31mIndexError\u001b[0m: list index out of range"
     ]
    }
   ],
   "source": [
    "# Output is a list of topics\n",
    "print(\"\\nTopics in NMF model:\")\n",
    "print_top_words(nmf_tf, tf_feature_names, n_top_words)"
   ]
  },
  {
   "cell_type": "markdown",
   "metadata": {},
   "source": [
    "### Term frequency-inverse document frequency (tfidf)"
   ]
  },
  {
   "cell_type": "code",
   "execution_count": 435,
   "metadata": {},
   "outputs": [],
   "source": [
    "nmf_tfidf = nmf.fit(tfidf)\n",
    "nmf_2 = nmf_tfidf.transform(tfidf)"
   ]
  },
  {
   "cell_type": "code",
   "execution_count": 436,
   "metadata": {},
   "outputs": [
    {
     "name": "stdout",
     "output_type": "stream",
     "text": [
      "Topic #0:\n",
      "it not but like is would just for so do does really that its don\n",
      "\n",
      "Topic #1:\n",
      "game play fun this is playing good games great love challenging and like enjoy very\n",
      "\n",
      "Topic #2:\n",
      "you your if can get or will are like want to have what need don\n",
      "\n",
      "Topic #3:\n",
      "to easy use have play and able very be time find when it way want\n",
      "\n",
      "Topic #4:\n",
      "the of that in and are to is as one on all there for but\n",
      "\n",
      "Topic #5:\n",
      "my on kindle phone fire have books and tablet works read can love android with\n",
      "\n",
      "Topic #6:\n",
      "app this is for great and love very free good use amazon really recommend works\n",
      "\n",
      "Topic #7:\n",
      "quot said and words ghost ghosts then app word weird amp first creepy up so\n",
      "\n",
      "Topic #8:\n",
      "was and it my said got this me had then when were we so in\n",
      "\n",
      "Topic #9:\n",
      "radio stations listen music local station to can favorite from world tunein love all scanner\n",
      "\n",
      "\n"
     ]
    }
   ],
   "source": [
    "print_top_words(nmf_tfidf, tfidf_feature_names, n_top_words)"
   ]
  },
  {
   "cell_type": "markdown",
   "metadata": {},
   "source": [
    "# LDA"
   ]
  },
  {
   "cell_type": "markdown",
   "metadata": {},
   "source": [
    "Topic modeling is a type of statistical modeling for discovering the \"topics\" that accdour in a collection of decuments. Latent Dirichlet Allocation (LDA) is an example of topic model and is used to classify text in a document to a particular topic. It builds a topic per document model and words per topic model, modeled as Dirichlet distributions."
   ]
  },
  {
   "cell_type": "code",
   "execution_count": 447,
   "metadata": {},
   "outputs": [],
   "source": [
    "# Initialize LDA\n",
    "lda = LatentDirichletAllocation(n_topics=10, max_iter=5, \n",
    "                                learning_method='online',\n",
    "                               learning_offset=50.,\n",
    "                               random_state=0)"
   ]
  },
  {
   "cell_type": "code",
   "execution_count": 448,
   "metadata": {},
   "outputs": [
    {
     "name": "stderr",
     "output_type": "stream",
     "text": [
      "/Users/dimitriwilhelm/anaconda3/lib/python3.6/site-packages/sklearn/decomposition/online_lda.py:294: DeprecationWarning: n_topics has been renamed to n_components in version 0.19 and will be removed in 0.21\n",
      "  DeprecationWarning)\n"
     ]
    }
   ],
   "source": [
    "lda_tf = lda.fit(tf)"
   ]
  },
  {
   "cell_type": "code",
   "execution_count": 449,
   "metadata": {},
   "outputs": [],
   "source": [
    "lda_ = lda_tf.transform(tf)"
   ]
  },
  {
   "cell_type": "code",
   "execution_count": 453,
   "metadata": {},
   "outputs": [
    {
     "name": "stdout",
     "output_type": "stream",
     "text": [
      "\n",
      "Topics in LDA model:\n",
      "Topic #0:\n",
      "tic toe audible tac wallpaper halloween child younger definitions trigger pumpkins bats register os teacher\n",
      "\n",
      "Topic #1:\n",
      "moon router twitter signals facebook phases streams seesmic ha routers train born bills strongest image\n",
      "\n",
      "Topic #2:\n",
      "wordpress fitness dropbox hortatory property zombie xx meet mainly married college hike artichoke hp zillow\n",
      "\n",
      "Topic #3:\n",
      "game play fun like games good time great playing love get really one would graphics\n",
      "\n",
      "Topic #4:\n",
      "ghost ghosts room radar house creepy dot dog showed funny sister occupied freaked omg haunted\n",
      "\n",
      "Topic #5:\n",
      "said strength totally came red copy cause scared went bible dots dad friends wireless book\n",
      "\n",
      "Topic #6:\n",
      "smartphone grandson monkey pounds sold helping cd grandkids mazes exercises spoken beware member mfp servings\n",
      "\n",
      "Topic #7:\n",
      "radio listen local scanner tunein police listening diet tracks manager sucks turned tracker pandora ups\n",
      "\n",
      "Topic #8:\n",
      "app like use great kindle get one love would works fire free time easy really\n",
      "\n",
      "Topic #9:\n",
      "calories food data foods calorie passwords intake eating transactions loaded mint username easymoney lbs transaction\n",
      "\n",
      "\n"
     ]
    }
   ],
   "source": [
    "print(\"\\nTopics in LDA model:\")\n",
    "print_top_words(lda_tf, tf_feature_names, n_top_words)"
   ]
  },
  {
   "cell_type": "code",
   "execution_count": null,
   "metadata": {},
   "outputs": [],
   "source": []
  }
 ],
 "metadata": {
  "kernelspec": {
   "display_name": "Python 3",
   "language": "python",
   "name": "python3"
  },
  "language_info": {
   "codemirror_mode": {
    "name": "ipython",
    "version": 3
   },
   "file_extension": ".py",
   "mimetype": "text/x-python",
   "name": "python",
   "nbconvert_exporter": "python",
   "pygments_lexer": "ipython3",
   "version": "3.6.5"
  }
 },
 "nbformat": 4,
 "nbformat_minor": 2
}
