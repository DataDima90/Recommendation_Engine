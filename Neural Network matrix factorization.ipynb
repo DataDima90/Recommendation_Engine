{
 "cells": [
  {
   "cell_type": "code",
   "execution_count": 2,
   "metadata": {},
   "outputs": [],
   "source": [
    "import os\n",
    "from scipy import sparse, vstack\n",
    "import pandas as pd\n",
    "import numpy as np\n",
    "import neural_network as nn\n",
    "import LSTM\n",
    "import datapreprocessing as dp\n",
    "import torch\n",
    "import torch.nn as nn\n",
    "import torch.utils.data as data\n",
    "import matplotlib.pyplot as plt"
   ]
  },
  {
   "cell_type": "markdown",
   "metadata": {},
   "source": [
    "## Loading the data"
   ]
  },
  {
   "cell_type": "code",
   "execution_count": 73,
   "metadata": {},
   "outputs": [],
   "source": [
    "def get_interactions():\n",
    "    df_user_item_rating = pd.read_csv('cleaned_user_item_rating.csv')\n",
    "    df_user_item_rating = df_user_item_rating.drop(columns=['Unnamed: 0'])[:100]\n",
    "    df_user_item_rating['reviewerID'] = pd.factorize(df_user_item_rating['reviewerID'])[0] + 1\n",
    "    df_user_item_rating['asin'] = pd.factorize(df_user_item_rating['asin'])[0] + 1\n",
    "    \n",
    "    # number of unique users\n",
    "    n_users = df_user_item_rating.reviewerID.unique().shape[0]\n",
    "    #print('{} unique users'.format(n_users))\n",
    "    \n",
    "    # number of unique items\n",
    "    n_items = df_user_item_rating.asin.unique().shape[0]\n",
    "    #print('{} unique items'.format(n_items))\n",
    "    \n",
    "    interactions = np.zeros((n_users, n_items))\n",
    "    for row in df_user_item_rating.itertuples():\n",
    "        interactions[row[1] - 1, row[2] - 1] = row[3]\n",
    "    return interactions"
   ]
  },
  {
   "cell_type": "code",
   "execution_count": 74,
   "metadata": {},
   "outputs": [],
   "source": [
    "interactions = get_interactions()"
   ]
  },
  {
   "cell_type": "markdown",
   "metadata": {},
   "source": [
    "Given the underwhelming performance of our matrix factorization model, we try a simple feedforward recommendation system instead. \n",
    "\n",
    "\n",
    "Input of this neural network is a pair of user and item represented by their IDs. Both user and item IDs first pass through an embedding layer. The output of the embedding layer, which are two embedding vectors, are then concatenated into one and passed into a linear network. \n",
    "\n",
    "\n",
    "Output of the linear network is one dimensional - representing the rating for the user-item pair. "
   ]
  },
  {
   "cell_type": "markdown",
   "metadata": {},
   "source": [
    "The model is fit the same way as the matrix factorization model and uses the standard PyTorch approach of forward passing, computing the loss, backpropagating and updating weights."
   ]
  },
  {
   "cell_type": "code",
   "execution_count": 98,
   "metadata": {},
   "outputs": [],
   "source": [
    "def train_test_split(interactions, n=2):\n",
    "    \"\"\"\n",
    "    Split an interactions matrix into training and test sets.\n",
    "    Parameters\n",
    "    ----------\n",
    "    interactions : np.ndarray\n",
    "    n : int (default=2)\n",
    "        Number of items to select / row to place into test.\n",
    "    Returns\n",
    "    -------\n",
    "    train : np.ndarray\n",
    "    test : np.ndarray\n",
    "    \"\"\"\n",
    "    test = np.zeros(interactions.shape)\n",
    "    train = interactions.copy()\n",
    "    for user in range(interactions.shape[0]):\n",
    "        if interactions[user, :].nonzero()[0].shape[0] > n:\n",
    "            test_interactions = np.random.choice(interactions[user, :].nonzero()[0],\n",
    "                                                 size=n,\n",
    "                                                 replace=False)\n",
    "            train[user, test_interactions] = 0.\n",
    "            test[user, test_interactions] = interactions[user, test_interactions]\n",
    "\n",
    "    # Test and training are truly disjoint\n",
    "    assert(np.all((train * test) == 0))\n",
    "    return train, test"
   ]
  },
  {
   "cell_type": "code",
   "execution_count": 99,
   "metadata": {},
   "outputs": [],
   "source": [
    "def interactions_train_test_split():\n",
    "    interactions = get_interactions()\n",
    "    train, test = train_test_split(interactions)\n",
    "    train = sparse.coo_matrix(train)\n",
    "    test = sparse.coo_matrix(test)\n",
    "    return train, test"
   ]
  },
  {
   "cell_type": "code",
   "execution_count": 100,
   "metadata": {},
   "outputs": [],
   "source": [
    "train, test = interactions_train_test_split()"
   ]
  },
  {
   "cell_type": "code",
   "execution_count": 101,
   "metadata": {},
   "outputs": [
    {
     "name": "stdout",
     "output_type": "stream",
     "text": [
      "  (0, 0)\t3.0\n",
      "  (1, 0)\t5.0\n",
      "  (2, 0)\t5.0\n",
      "  (3, 0)\t5.0\n",
      "  (4, 0)\t5.0\n",
      "  (5, 0)\t5.0\n",
      "  (6, 0)\t5.0\n",
      "  (7, 0)\t5.0\n",
      "  (8, 0)\t5.0\n",
      "  (9, 0)\t5.0\n",
      "  (10, 0)\t4.0\n",
      "  (11, 0)\t3.0\n",
      "  (12, 0)\t5.0\n",
      "  (13, 0)\t3.0\n",
      "  (14, 0)\t5.0\n",
      "  (15, 0)\t5.0\n",
      "  (16, 0)\t4.0\n",
      "  (17, 1)\t1.0\n",
      "  (18, 1)\t5.0\n",
      "  (19, 1)\t4.0\n",
      "  (20, 1)\t4.0\n",
      "  (21, 1)\t5.0\n",
      "  (22, 1)\t5.0\n",
      "  (23, 1)\t5.0\n",
      "  (24, 1)\t1.0\n",
      "  :\t:\n",
      "  (75, 1)\t5.0\n",
      "  (76, 1)\t5.0\n",
      "  (77, 1)\t5.0\n",
      "  (78, 1)\t1.0\n",
      "  (79, 2)\t5.0\n",
      "  (80, 2)\t5.0\n",
      "  (81, 2)\t5.0\n",
      "  (82, 2)\t5.0\n",
      "  (83, 2)\t5.0\n",
      "  (84, 2)\t4.0\n",
      "  (85, 2)\t5.0\n",
      "  (86, 2)\t5.0\n",
      "  (87, 2)\t3.0\n",
      "  (88, 2)\t5.0\n",
      "  (89, 2)\t5.0\n",
      "  (90, 2)\t5.0\n",
      "  (91, 2)\t5.0\n",
      "  (92, 2)\t5.0\n",
      "  (93, 2)\t3.0\n",
      "  (94, 2)\t5.0\n",
      "  (95, 2)\t5.0\n",
      "  (96, 2)\t5.0\n",
      "  (97, 2)\t3.0\n",
      "  (98, 2)\t5.0\n",
      "  (99, 2)\t5.0\n"
     ]
    }
   ],
   "source": [
    "print(train)"
   ]
  },
  {
   "cell_type": "code",
   "execution_count": 106,
   "metadata": {},
   "outputs": [
    {
     "name": "stdout",
     "output_type": "stream",
     "text": [
      "  (0, 0)\t4\n",
      "  (3, 3)\t5\n",
      "  (1, 1)\t7\n",
      "  (0, 2)\t9\n"
     ]
    }
   ],
   "source": [
    "# Constructing an empty matrix\n",
    "from scipy.sparse import coo_matrix\n",
    "coo_matrix((3, 4), dtype=np.int8).toarray()\n",
    "\n",
    "\n",
    "# Constructing a matrix using ijv format\n",
    "row  = np.array([0, 3, 1, 0])\n",
    "col  = np.array([0, 3, 1, 2])\n",
    "data = np.array([4, 5, 7, 9])\n",
    "cm = coo_matrix((data, (row, col)), shape=(4, 4))\n",
    "print(cm)"
   ]
  },
  {
   "cell_type": "code",
   "execution_count": 107,
   "metadata": {},
   "outputs": [
    {
     "data": {
      "text/plain": [
       "array([[4, 0, 9, 0],\n",
       "       [0, 7, 0, 0],\n",
       "       [0, 0, 0, 0],\n",
       "       [0, 0, 0, 5]])"
      ]
     },
     "execution_count": 107,
     "metadata": {},
     "output_type": "execute_result"
    }
   ],
   "source": [
    "cm.toarray()"
   ]
  },
  {
   "cell_type": "code",
   "execution_count": null,
   "metadata": {},
   "outputs": [],
   "source": [
    "# normalize into [0,1]\n",
    "def normalize(ratings):\n",
    "    ratings = ratings.copy()\n",
    "    max_ratings = ratings.max()\n",
    "    ratings = ratings*1.0/max_ratings\n",
    "    return ratings"
   ]
  },
  {
   "cell_type": "code",
   "execution_count": null,
   "metadata": {},
   "outputs": [],
   "source": [
    "#df_user_item_rating.overall = normalize(df_user_item_rating.overall)"
   ]
  },
  {
   "cell_type": "code",
   "execution_count": null,
   "metadata": {},
   "outputs": [],
   "source": [
    "#df_user_item_rating.head()"
   ]
  },
  {
   "cell_type": "code",
   "execution_count": null,
   "metadata": {},
   "outputs": [],
   "source": [
    "H1 = 128\n",
    "D_out = 1\n",
    "model = nn.DenseNet(n_users, n_items, n_factors=40,H1=H1,D_out=D_out)"
   ]
  },
  {
   "cell_type": "code",
   "execution_count": null,
   "metadata": {},
   "outputs": [],
   "source": []
  },
  {
   "cell_type": "code",
   "execution_count": null,
   "metadata": {},
   "outputs": [],
   "source": [
    "ratings = df_user_item_rating.pivot(index='reviewerID', columns='asin', values='overall').fillna(0)"
   ]
  },
  {
   "cell_type": "code",
   "execution_count": null,
   "metadata": {},
   "outputs": [],
   "source": [
    "def train_neural_network(model, ratings, lr=1e-6):\n",
    "    loss_fn = torch.nn.MSELoss() \n",
    "    optimizer = torch.optim.SGD(model.parameters(),\n",
    "                            lr=lr)\n",
    "\n",
    "    # Sort our data\n",
    "    ratings = np.array(ratings)\n",
    "    users, items = ratings.nonzero()\n",
    "    t = 0.0\n",
    "    total_loss = torch.Tensor([0])\n",
    "    p = np.random.permutation(len(users))\n",
    "    users, items = users[p], items[p]\n",
    "    loss_hist = []\n",
    "    for user, item in zip(*(users, items)):\n",
    "        t = t + 1\n",
    "        # get user, item and rating data\n",
    "        rating = torch.FloatTensor([ratings[user, item]])\n",
    "        user = torch.LongTen\n",
    "        sor([int(user)])\n",
    "        item = torch.LongTensor([int(item)])\n",
    "    \n",
    "        # predict and calculate loss\n",
    "        prediction = model.forward(user, item).flatten()\n",
    "        loss = torch.sqrt(loss_fn(prediction, rating))\n",
    "    \n",
    "        # backpropagate\n",
    "        loss.backward()\n",
    "\n",
    "        # update weights\n",
    "        optimizer.step()\n",
    "    \n",
    "        # Print\n",
    "        if t % 100 == 0:\n",
    "            #running_loss = float(running_loss) + float(loss.item()[0])\n",
    "            loss_hist.append(loss.item())\n",
    "            #print(t, loss.item())\n",
    "            print(np.sum(loss_hist)/len(loss_hist))"
   ]
  },
  {
   "cell_type": "code",
   "execution_count": null,
   "metadata": {},
   "outputs": [],
   "source": [
    "import torch.utils.data as data\n",
    "\n",
    "class Interactions(data.Dataset):\n",
    "    \"\"\"\n",
    "    Hold data in the form of an interactions matrix.\n",
    "    Typical use-case is like a ratings matrix:\n",
    "    - Users are the rows\n",
    "    - Items are the columns\n",
    "    - Elements of the matrix are the ratings given by a user for an item.\n",
    "    \"\"\"\n",
    "\n",
    "    def __init__(self, mat):\n",
    "        self.mat = mat.astype(np.float32).tocoo()\n",
    "        self.n_users = self.mat.shape[0]\n",
    "        self.n_items = self.mat.shape[1]\n",
    "\n",
    "    def __getitem__(self, index):\n",
    "        row = self.mat.row[index]\n",
    "        col = self.mat.col[index]\n",
    "        val = self.mat.data[index]\n",
    "        return (row, col), val\n",
    "\n",
    "    def __len__(self):\n",
    "        return self.mat.nnz"
   ]
  },
  {
   "cell_type": "code",
   "execution_count": null,
   "metadata": {},
   "outputs": [],
   "source": [
    "ratings = np.array(ratings)\n",
    "for user in range(len(ratings)):\n",
    "        user_name = np.ones(ratings.shape[1])*user\n",
    "        user_name = user_name.astype(int)\n",
    "        j = ratings[user,:]\n",
    "        items = pd.DataFrame(ratings).columns.values\n",
    "        A = sparse.csr_matrix(((user_name),(items,j)))"
   ]
  },
  {
   "cell_type": "code",
   "execution_count": null,
   "metadata": {},
   "outputs": [],
   "source": [
    "#ratings[:100000].to_csv('ratings.csv')"
   ]
  },
  {
   "cell_type": "code",
   "execution_count": null,
   "metadata": {},
   "outputs": [],
   "source": [
    "# My Hyperparameters\n",
    "embedding_dim = 64\n",
    "hidden_dim = 128\n",
    "n_output = 1\n",
    "\n",
    "# add one to represent padding when there is not enough history\n",
    "model = LSTM.LSTMRating(embedding_dim, hidden_dim, n_items+1, n_output)\n",
    "loss_fn = torch.nn.MSELoss()\n",
    "optimizer = torch.optim.SGD(model.parameters(), lr=0.001)\n",
    "\n",
    "#if os.path.isfile('LSTM.pt'):\n",
    "#    model = torch.load('LSTM.pt')\n",
    "\n",
    "# Trainingsprozess\n",
    "def train(epoch, ratings):\n",
    "    model.train()\n",
    "    loss_hist = []\n",
    "    loss_average_list = []\n",
    "    t = 0\n",
    "    ratings = ratings.astype(int)\n",
    "    ratings = np.array(ratings)\n",
    "    for user in range(len(ratings)):\n",
    "        t = t + 1\n",
    "        user_name = np.ones(ratings.shape[1])*user\n",
    "        user_name = user_name.astype(int)\n",
    "        j = ratings[user,:]\n",
    "        items = pd.DataFrame(ratings).columns.values\n",
    "        A = sparse.csr_matrix(((user_name),(items,j)))\n",
    "        #print(A)\n",
    "        X_col = A.tocoo().col\n",
    "        X_row = A.tocoo().row\n",
    "        indices = np.nonzero(X_col)\n",
    "        columns_non_unique = indices[0]\n",
    "        unique_columns = sorted(set(columns_non_unique))\n",
    "        user_item = A.tocoo().row[unique_columns]\n",
    "        user_rating = A.tocoo().col[unique_columns]\n",
    "        user = np.ones(len(user_item))*5\n",
    "        user = user.astype(int)\n",
    "        user_item_rating = sparse.csr_matrix(((user),(user_item,user_rating)))\n",
    "        user_item_rating.tocoo().row\n",
    "        \n",
    "        sequence = user_item_rating.tocoo().row\n",
    "        target_ratings = user_item_rating.tocoo().col/5\n",
    "        # Set gardient zero\n",
    "        model.zero_grad()\n",
    "        # initialize hidden layers\n",
    "        model.hidden = model.init_hidden()\n",
    "        # convert sequence to PyTorch variables\n",
    "        sequence_var = torch.LongTensor(sequence.astype('int64'))\n",
    "        #print(sequence_var)\n",
    "        # forward pass\n",
    "        ratings_scores = model(sequence_var).flatten()\n",
    "        target_ratings_var = torch.FloatTensor(target_ratings.astype('float32')).flatten()\n",
    "        # compute loss\n",
    "        loss = torch.sqrt(loss_fn(ratings_scores, target_ratings_var))\n",
    "        # backpropagate\n",
    "        loss.backward()\n",
    "        # update weights\n",
    "        optimizer.step()\n",
    "        # print\n",
    "        if t % 100 == 0:\n",
    "            #running_loss = float(running_loss) + float(loss.item()[0])\n",
    "            loss_hist.append(loss.item())\n",
    "            #print(t, loss.item())\n",
    "            loss_average = np.sum(loss_hist)/len(loss_hist)\n",
    "            loss_average_list.append(loss_average)\n",
    "            #print(loss_average)\n",
    "            print('Train Epoch: {0}, {1}'.format(epoch, loss_average))\n",
    "        \n",
    "for epoch in range(1,3):\n",
    "    train(epoch, ratings)\n",
    "        \n",
    "# NN speichern\n",
    "torch.save(model,'LSTM.pt')"
   ]
  },
  {
   "cell_type": "code",
   "execution_count": null,
   "metadata": {},
   "outputs": [],
   "source": [
    "def test():\n",
    "    loss = 0"
   ]
  },
  {
   "cell_type": "code",
   "execution_count": null,
   "metadata": {},
   "outputs": [],
   "source": []
  },
  {
   "cell_type": "code",
   "execution_count": null,
   "metadata": {},
   "outputs": [],
   "source": [
    "plt.plot(loss_average_list)\n",
    "plt.show()"
   ]
  },
  {
   "cell_type": "code",
   "execution_count": null,
   "metadata": {},
   "outputs": [],
   "source": [
    "def bpr_loss(preds, vals):\n",
    "    sig = nn.Sigmoid()\n",
    "    return (1.0 - sig(preds)).pow(2).sum()"
   ]
  }
 ],
 "metadata": {
  "kernelspec": {
   "display_name": "Python 3",
   "language": "python",
   "name": "python3"
  },
  "language_info": {
   "codemirror_mode": {
    "name": "ipython",
    "version": 3
   },
   "file_extension": ".py",
   "mimetype": "text/x-python",
   "name": "python",
   "nbconvert_exporter": "python",
   "pygments_lexer": "ipython3",
   "version": "3.6.5"
  }
 },
 "nbformat": 4,
 "nbformat_minor": 2
}
