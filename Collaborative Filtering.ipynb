{
 "cells": [
  {
   "cell_type": "markdown",
   "metadata": {},
   "source": [
    "# Exploratory Data Analysis and Visualization"
   ]
  },
  {
   "cell_type": "markdown",
   "metadata": {},
   "source": [
    "# Introduction"
   ]
  },
  {
   "cell_type": "markdown",
   "metadata": {},
   "source": [
    "Have you ever wondered how does an e-commerce websites display options such as \"Frequently Bought Together\"?\n",
    "Such systems are called Recommender Systems, Recommendation Systems, or Recommendation Engines. It is one of \n",
    "the most famous applications of data science and machine learning.\n",
    "More and more consumers seek product information from other consumers apart from the information provided by the seller. Reviews and ratings submitted by consumers are examples of such of type of information and they have already become an integral part of customer’s buying-decision process. The review and ratings platform provided by eCommerce players creates transparent system for consumers to take informed decision and feel confident about it."
   ]
  },
  {
   "cell_type": "markdown",
   "metadata": {},
   "source": [
    "## Dataset"
   ]
  },
  {
   "cell_type": "markdown",
   "metadata": {},
   "source": [
    "- The Amazon Dataset (Apps for Androids) is used for analysis and can be found here: .\n",
    "- It contains over 750,000 reviews of Amazon Apps for Androids applied to 13,200 products by 87,000 users.\n",
    "- It consists of the following information:\n",
    "    - UserID\n",
    "    - ProductID\n",
    "    - UserName\n",
    "    - UserNickname\n",
    "    - Number of people who have voted if this review is helpful or not\n",
    "    - Number of people who have voted that the review is helpful\n",
    "    - Rating (1 - 5 stars)\n",
    "    - Review\n",
    "    - A summary of the review\n",
    "    - Timestamp of the review\n"
   ]
  },
  {
   "cell_type": "code",
   "execution_count": 1,
   "metadata": {},
   "outputs": [],
   "source": [
    "from scipy import sparse\n",
    "from scipy.sparse.linalg import svds\n",
    "\n",
    "import numpy as np\n",
    "import pandas as pd\n",
    "import torch\n",
    "import torch.nn as nn\n",
    "import torch.nn.functional as F\n",
    "#import torch.utils.data as data\n",
    "\n",
    "\n",
    "# Visualization packages\n",
    "import matplotlib.pyplot as plt\n",
    "import seaborn as sns\n",
    "sns.set(style=\"darkgrid\")"
   ]
  },
  {
   "cell_type": "markdown",
   "metadata": {},
   "source": [
    "## Loading the Data"
   ]
  },
  {
   "cell_type": "code",
   "execution_count": 2,
   "metadata": {},
   "outputs": [],
   "source": [
    "# Reading the data provided via http://jmcauley.ucsd.edu/data/amazon/\n",
    "def parse(path):\n",
    "    g = open(path, 'rb')\n",
    "    for l in g:\n",
    "        yield eval(l)\n",
    "\n",
    "def getDF(path):\n",
    "    i = 0\n",
    "    df = {}\n",
    "    for d in parse(path):\n",
    "        df[i] = d\n",
    "        i += 1\n",
    "    return pd.DataFrame.from_dict(df, orient='index')"
   ]
  },
  {
   "cell_type": "code",
   "execution_count": 5,
   "metadata": {},
   "outputs": [],
   "source": [
    "# Read the json file\n",
    "df_Apps = getDF(\"data/Apps_for_Android_5.json\")"
   ]
  },
  {
   "cell_type": "code",
   "execution_count": 6,
   "metadata": {},
   "outputs": [
    {
     "name": "stdout",
     "output_type": "stream",
     "text": [
      "<class 'pandas.core.frame.DataFrame'>\n",
      "Int64Index: 752937 entries, 0 to 752936\n",
      "Data columns (total 9 columns):\n",
      "reviewerID        752937 non-null object\n",
      "asin              752937 non-null object\n",
      "reviewerName      694739 non-null object\n",
      "helpful           752937 non-null object\n",
      "reviewText        752937 non-null object\n",
      "overall           752937 non-null float64\n",
      "summary           752937 non-null object\n",
      "unixReviewTime    752937 non-null int64\n",
      "reviewTime        752937 non-null object\n",
      "dtypes: float64(1), int64(1), object(7)\n",
      "memory usage: 57.4+ MB\n"
     ]
    }
   ],
   "source": [
    "# Checking for missing values\n",
    "df_Apps.info()\n",
    "# Observe that there are some missing values in reviewerName column"
   ]
  },
  {
   "cell_type": "code",
   "execution_count": 7,
   "metadata": {},
   "outputs": [
    {
     "name": "stdout",
     "output_type": "stream",
     "text": [
      "We have 9 features and 752937 data points\n"
     ]
    }
   ],
   "source": [
    "# Observing the shape of our data frame\n",
    "print('We have {0} features and {1} data points'.format(df_Apps.shape[1], df_Apps.shape[0]))"
   ]
  },
  {
   "cell_type": "code",
   "execution_count": 8,
   "metadata": {},
   "outputs": [
    {
     "data": {
      "text/html": [
       "<div>\n",
       "<style scoped>\n",
       "    .dataframe tbody tr th:only-of-type {\n",
       "        vertical-align: middle;\n",
       "    }\n",
       "\n",
       "    .dataframe tbody tr th {\n",
       "        vertical-align: top;\n",
       "    }\n",
       "\n",
       "    .dataframe thead th {\n",
       "        text-align: right;\n",
       "    }\n",
       "</style>\n",
       "<table border=\"1\" class=\"dataframe\">\n",
       "  <thead>\n",
       "    <tr style=\"text-align: right;\">\n",
       "      <th></th>\n",
       "      <th>reviewerID</th>\n",
       "      <th>asin</th>\n",
       "      <th>reviewerName</th>\n",
       "      <th>helpful</th>\n",
       "      <th>reviewText</th>\n",
       "      <th>overall</th>\n",
       "      <th>summary</th>\n",
       "      <th>unixReviewTime</th>\n",
       "      <th>reviewTime</th>\n",
       "    </tr>\n",
       "  </thead>\n",
       "  <tbody>\n",
       "    <tr>\n",
       "      <th>0</th>\n",
       "      <td>A1N4O8VOJZTDVB</td>\n",
       "      <td>B004A9SDD8</td>\n",
       "      <td>Annette Yancey</td>\n",
       "      <td>[1, 1]</td>\n",
       "      <td>Loves the song, so he really couldn't wait to ...</td>\n",
       "      <td>3.0</td>\n",
       "      <td>Really cute</td>\n",
       "      <td>1383350400</td>\n",
       "      <td>11 2, 2013</td>\n",
       "    </tr>\n",
       "    <tr>\n",
       "      <th>1</th>\n",
       "      <td>A2HQWU6HUKIEC7</td>\n",
       "      <td>B004A9SDD8</td>\n",
       "      <td>Audiobook lover \"Kathy\"</td>\n",
       "      <td>[0, 0]</td>\n",
       "      <td>Oh, how my little grandson loves this app. He'...</td>\n",
       "      <td>5.0</td>\n",
       "      <td>2-year-old loves it</td>\n",
       "      <td>1323043200</td>\n",
       "      <td>12 5, 2011</td>\n",
       "    </tr>\n",
       "    <tr>\n",
       "      <th>2</th>\n",
       "      <td>A1SXASF6GYG96I</td>\n",
       "      <td>B004A9SDD8</td>\n",
       "      <td>Barbara Gibbs</td>\n",
       "      <td>[0, 0]</td>\n",
       "      <td>I found this at a perfect time since my daught...</td>\n",
       "      <td>5.0</td>\n",
       "      <td>Fun game</td>\n",
       "      <td>1337558400</td>\n",
       "      <td>05 21, 2012</td>\n",
       "    </tr>\n",
       "    <tr>\n",
       "      <th>3</th>\n",
       "      <td>A2B54P9ZDYH167</td>\n",
       "      <td>B004A9SDD8</td>\n",
       "      <td>Brooke Greenstreet \"Babylove\"</td>\n",
       "      <td>[3, 4]</td>\n",
       "      <td>My 1 year old goes back to this game over and ...</td>\n",
       "      <td>5.0</td>\n",
       "      <td>We love our Monkeys!</td>\n",
       "      <td>1354752000</td>\n",
       "      <td>12 6, 2012</td>\n",
       "    </tr>\n",
       "    <tr>\n",
       "      <th>4</th>\n",
       "      <td>AFOFZDTX5UC6D</td>\n",
       "      <td>B004A9SDD8</td>\n",
       "      <td>C. Galindo</td>\n",
       "      <td>[1, 1]</td>\n",
       "      <td>There are three different versions of the song...</td>\n",
       "      <td>5.0</td>\n",
       "      <td>This is my granddaughters favorite app on my K...</td>\n",
       "      <td>1391212800</td>\n",
       "      <td>02 1, 2014</td>\n",
       "    </tr>\n",
       "  </tbody>\n",
       "</table>\n",
       "</div>"
      ],
      "text/plain": [
       "       reviewerID        asin                   reviewerName helpful  \\\n",
       "0  A1N4O8VOJZTDVB  B004A9SDD8                 Annette Yancey  [1, 1]   \n",
       "1  A2HQWU6HUKIEC7  B004A9SDD8        Audiobook lover \"Kathy\"  [0, 0]   \n",
       "2  A1SXASF6GYG96I  B004A9SDD8                  Barbara Gibbs  [0, 0]   \n",
       "3  A2B54P9ZDYH167  B004A9SDD8  Brooke Greenstreet \"Babylove\"  [3, 4]   \n",
       "4   AFOFZDTX5UC6D  B004A9SDD8                     C. Galindo  [1, 1]   \n",
       "\n",
       "                                          reviewText  overall  \\\n",
       "0  Loves the song, so he really couldn't wait to ...      3.0   \n",
       "1  Oh, how my little grandson loves this app. He'...      5.0   \n",
       "2  I found this at a perfect time since my daught...      5.0   \n",
       "3  My 1 year old goes back to this game over and ...      5.0   \n",
       "4  There are three different versions of the song...      5.0   \n",
       "\n",
       "                                             summary  unixReviewTime  \\\n",
       "0                                        Really cute      1383350400   \n",
       "1                                2-year-old loves it      1323043200   \n",
       "2                                           Fun game      1337558400   \n",
       "3                               We love our Monkeys!      1354752000   \n",
       "4  This is my granddaughters favorite app on my K...      1391212800   \n",
       "\n",
       "    reviewTime  \n",
       "0   11 2, 2013  \n",
       "1   12 5, 2011  \n",
       "2  05 21, 2012  \n",
       "3   12 6, 2012  \n",
       "4   02 1, 2014  "
      ]
     },
     "execution_count": 8,
     "metadata": {},
     "output_type": "execute_result"
    }
   ],
   "source": [
    "# Printing first 5 columns from our data frame\n",
    "df_Apps.head()"
   ]
  },
  {
   "cell_type": "code",
   "execution_count": 9,
   "metadata": {},
   "outputs": [
    {
     "data": {
      "text/plain": [
       "5.0    386637\n",
       "4.0    158081\n",
       "3.0     85121\n",
       "1.0     78713\n",
       "2.0     44385\n",
       "Name: overall, dtype: int64"
      ]
     },
     "execution_count": 9,
     "metadata": {},
     "output_type": "execute_result"
    }
   ],
   "source": [
    "# Value count on \"Overall\"\n",
    "df_Apps.overall.value_counts()"
   ]
  },
  {
   "cell_type": "code",
   "execution_count": 10,
   "metadata": {},
   "outputs": [
    {
     "data": {
      "text/plain": [
       "(752937, 8)"
      ]
     },
     "execution_count": 10,
     "metadata": {},
     "output_type": "execute_result"
    }
   ],
   "source": [
    "# Feature-Engineering\n",
    "df_Apps['HelpfulnessNumerator'] = df_Apps.helpful.apply(lambda x: x[0])\n",
    "df_Apps['HelpfulnessDenominator'] = df_Apps.helpful.apply(lambda x: x[1])\n",
    "df_Apps.drop(['helpful'], axis = 1)\n",
    "\n",
    "#copying the original dataframe to 'temp_df'.\n",
    "temp_df = df_Apps[['reviewerID','HelpfulnessNumerator','HelpfulnessDenominator', 'summary', 'reviewText','overall']].copy()\n",
    "\n",
    "#Adding new features to dataframe.\n",
    "temp_df[\"Sentiment\"] = temp_df[\"overall\"].apply(lambda overall: \"positive\" if overall > 3 else \\\n",
    "                                              (\"negative\" if overall < 3 else \"not defined\"))\n",
    "temp_df[\"Helpfulness\"] = (temp_df[\"HelpfulnessNumerator\"]/temp_df[\"HelpfulnessDenominator\"]).apply\\\n",
    "(lambda n: \">75%\" if n > 0.75 else (\"<25%\" if n < 0.25 else (\"25-75%\" if n >= 0.25 and\\\n",
    "                                                                        n <= 0.75 else \"useless\")))\n",
    "\n",
    "temp_df.loc[temp_df.HelpfulnessDenominator == 0, 'Helpfulness'] = [\"useless\"]\n",
    "# Removing all rows where 'Score' is equal to 3\n",
    "#temp_df = temp_df[temp_df.Score != 3]\n",
    "#Lets now observe the shape of our new dataframe.\n",
    "temp_df.shape"
   ]
  },
  {
   "cell_type": "code",
   "execution_count": 11,
   "metadata": {},
   "outputs": [
    {
     "data": {
      "text/html": [
       "<div>\n",
       "<style scoped>\n",
       "    .dataframe tbody tr th:only-of-type {\n",
       "        vertical-align: middle;\n",
       "    }\n",
       "\n",
       "    .dataframe tbody tr th {\n",
       "        vertical-align: top;\n",
       "    }\n",
       "\n",
       "    .dataframe thead th {\n",
       "        text-align: right;\n",
       "    }\n",
       "</style>\n",
       "<table border=\"1\" class=\"dataframe\">\n",
       "  <thead>\n",
       "    <tr style=\"text-align: right;\">\n",
       "      <th></th>\n",
       "      <th>HelpfulnessNumerator</th>\n",
       "      <th>HelpfulnessDenominator</th>\n",
       "      <th>overall</th>\n",
       "    </tr>\n",
       "  </thead>\n",
       "  <tbody>\n",
       "    <tr>\n",
       "      <th>count</th>\n",
       "      <td>752937.000000</td>\n",
       "      <td>752937.000000</td>\n",
       "      <td>752937.000000</td>\n",
       "    </tr>\n",
       "    <tr>\n",
       "      <th>mean</th>\n",
       "      <td>3.435937</td>\n",
       "      <td>4.473125</td>\n",
       "      <td>3.968931</td>\n",
       "    </tr>\n",
       "    <tr>\n",
       "      <th>std</th>\n",
       "      <td>37.328951</td>\n",
       "      <td>43.688824</td>\n",
       "      <td>1.342484</td>\n",
       "    </tr>\n",
       "    <tr>\n",
       "      <th>min</th>\n",
       "      <td>0.000000</td>\n",
       "      <td>0.000000</td>\n",
       "      <td>1.000000</td>\n",
       "    </tr>\n",
       "    <tr>\n",
       "      <th>25%</th>\n",
       "      <td>0.000000</td>\n",
       "      <td>0.000000</td>\n",
       "      <td>3.000000</td>\n",
       "    </tr>\n",
       "    <tr>\n",
       "      <th>50%</th>\n",
       "      <td>0.000000</td>\n",
       "      <td>0.000000</td>\n",
       "      <td>5.000000</td>\n",
       "    </tr>\n",
       "    <tr>\n",
       "      <th>75%</th>\n",
       "      <td>1.000000</td>\n",
       "      <td>2.000000</td>\n",
       "      <td>5.000000</td>\n",
       "    </tr>\n",
       "    <tr>\n",
       "      <th>max</th>\n",
       "      <td>8116.000000</td>\n",
       "      <td>9258.000000</td>\n",
       "      <td>5.000000</td>\n",
       "    </tr>\n",
       "  </tbody>\n",
       "</table>\n",
       "</div>"
      ],
      "text/plain": [
       "       HelpfulnessNumerator  HelpfulnessDenominator        overall\n",
       "count         752937.000000           752937.000000  752937.000000\n",
       "mean               3.435937                4.473125       3.968931\n",
       "std               37.328951               43.688824       1.342484\n",
       "min                0.000000                0.000000       1.000000\n",
       "25%                0.000000                0.000000       3.000000\n",
       "50%                0.000000                0.000000       5.000000\n",
       "75%                1.000000                2.000000       5.000000\n",
       "max             8116.000000             9258.000000       5.000000"
      ]
     },
     "execution_count": 11,
     "metadata": {},
     "output_type": "execute_result"
    }
   ],
   "source": [
    "temp_df.describe()"
   ]
  },
  {
   "cell_type": "code",
   "execution_count": 12,
   "metadata": {},
   "outputs": [
    {
     "name": "stdout",
     "output_type": "stream",
     "text": [
      "<class 'pandas.core.frame.DataFrame'>\n",
      "Int64Index: 752937 entries, 0 to 752936\n",
      "Data columns (total 8 columns):\n",
      "reviewerID                752937 non-null object\n",
      "HelpfulnessNumerator      752937 non-null int64\n",
      "HelpfulnessDenominator    752937 non-null int64\n",
      "summary                   752937 non-null object\n",
      "reviewText                752937 non-null object\n",
      "overall                   752937 non-null float64\n",
      "Sentiment                 752937 non-null object\n",
      "Helpfulness               752937 non-null object\n",
      "dtypes: float64(1), int64(2), object(5)\n",
      "memory usage: 51.7+ MB\n"
     ]
    }
   ],
   "source": [
    "temp_df.info()"
   ]
  },
  {
   "cell_type": "markdown",
   "metadata": {},
   "source": [
    "### Positive reviews are very common"
   ]
  },
  {
   "cell_type": "code",
   "execution_count": 13,
   "metadata": {},
   "outputs": [
    {
     "data": {
      "image/png": "[encoded data removed]",
      "text/plain": [
       "<Figure size 432x288 with 1 Axes>"
      ]
     },
     "metadata": {},
     "output_type": "display_data"
    }
   ],
   "source": [
    "sns.countplot(x='Sentiment', order=[\"positive\", \"negative\", \"not defined\"], data=temp_df)\n",
    "plt.show()"
   ]
  },
  {
   "cell_type": "code",
   "execution_count": 14,
   "metadata": {},
   "outputs": [
    {
     "data": {
      "text/plain": [
       "positive       544718\n",
       "negative       123098\n",
       "not defined     85121\n",
       "Name: Sentiment, dtype: int64"
      ]
     },
     "execution_count": 14,
     "metadata": {},
     "output_type": "execute_result"
    }
   ],
   "source": [
    "temp_df.Sentiment.value_counts()"
   ]
  },
  {
   "cell_type": "markdown",
   "metadata": {},
   "source": [
    "We can conclude that the positive reviews are way more than the negative reviews."
   ]
  },
  {
   "cell_type": "markdown",
   "metadata": {},
   "source": [
    "## Helpfulness"
   ]
  },
  {
   "cell_type": "markdown",
   "metadata": {},
   "source": [
    "### How many reviews are helpful?"
   ]
  },
  {
   "cell_type": "code",
   "execution_count": 15,
   "metadata": {},
   "outputs": [
    {
     "data": {
      "text/plain": [
       "useless    465672\n",
       ">75%       146594\n",
       "25-75%      87513\n",
       "<25%        53158\n",
       "Name: Helpfulness, dtype: int64"
      ]
     },
     "execution_count": 15,
     "metadata": {},
     "output_type": "execute_result"
    }
   ],
   "source": [
    "# Checking the value count for \"Usefulness\"\n",
    "temp_helpfulness_counts = temp_df.Helpfulness.value_counts()\n",
    "temp_helpfulness_counts"
   ]
  },
  {
   "cell_type": "code",
   "execution_count": 17,
   "metadata": {},
   "outputs": [
    {
     "name": "stdout",
     "output_type": "stream",
     "text": [
      "Among all reviews, about 61.84740555982772 % are not voted on at all\n"
     ]
    }
   ],
   "source": [
    "reviews_not_voted = temp_helpfulness_counts[0] / (temp_helpfulness_counts[1] + temp_helpfulness_counts[2] + temp_helpfulness_counts[3] + temp_helpfulness_counts[0]) * 100\n",
    "print('Among all reviews, about {} % are not voted on at all'.format(reviews_not_voted))"
   ]
  },
  {
   "cell_type": "code",
   "execution_count": 18,
   "metadata": {},
   "outputs": [
    {
     "data": {
      "image/png": "[encoded data removed]",
      "text/plain": [
       "<Figure size 432x288 with 1 Axes>"
      ]
     },
     "metadata": {},
     "output_type": "display_data"
    }
   ],
   "source": [
    "sns.countplot(x=\"Helpfulness\", order=[\"useless\", \">75%\", \"25-75%\", \"<25%\"], data=temp_df)\n",
    "plt.show()"
   ]
  },
  {
   "cell_type": "markdown",
   "metadata": {},
   "source": [
    "### Positive reviews are more helpful for the users"
   ]
  },
  {
   "cell_type": "markdown",
   "metadata": {},
   "source": [
    "### Ratings becomes more positive, the reviews become more helpful"
   ]
  },
  {
   "cell_type": "code",
   "execution_count": 19,
   "metadata": {},
   "outputs": [
    {
     "data": {
      "text/plain": [
       "useless    262867\n",
       ">75%        75827\n",
       "25-75%      29077\n",
       "<25%        18866\n",
       "Name: Helpfulness, dtype: int64"
      ]
     },
     "execution_count": 19,
     "metadata": {},
     "output_type": "execute_result"
    }
   ],
   "source": [
    "temp_df[temp_df.overall==5].Helpfulness.value_counts()"
   ]
  },
  {
   "cell_type": "code",
   "execution_count": 20,
   "metadata": {},
   "outputs": [
    {
     "data": {
      "text/plain": [
       "25-75%     24931\n",
       "useless    23430\n",
       ">75%       16434\n",
       "<25%       13918\n",
       "Name: Helpfulness, dtype: int64"
      ]
     },
     "execution_count": 20,
     "metadata": {},
     "output_type": "execute_result"
    }
   ],
   "source": [
    "temp_df[temp_df.overall==1].Helpfulness.value_counts()"
   ]
  },
  {
   "cell_type": "code",
   "execution_count": null,
   "metadata": {},
   "outputs": [],
   "source": []
  },
  {
   "cell_type": "markdown",
   "metadata": {},
   "source": [
    "## Word Count"
   ]
  },
  {
   "cell_type": "code",
   "execution_count": 21,
   "metadata": {},
   "outputs": [],
   "source": [
    "temp_df[\"text_word_count\"] = temp_df[\"reviewText\"].apply(lambda text: len(text.split()))"
   ]
  },
  {
   "cell_type": "code",
   "execution_count": 22,
   "metadata": {},
   "outputs": [
    {
     "data": {
      "text/html": [
       "<div>\n",
       "<style scoped>\n",
       "    .dataframe tbody tr th:only-of-type {\n",
       "        vertical-align: middle;\n",
       "    }\n",
       "\n",
       "    .dataframe tbody tr th {\n",
       "        vertical-align: top;\n",
       "    }\n",
       "\n",
       "    .dataframe thead th {\n",
       "        text-align: right;\n",
       "    }\n",
       "</style>\n",
       "<table border=\"1\" class=\"dataframe\">\n",
       "  <thead>\n",
       "    <tr style=\"text-align: right;\">\n",
       "      <th></th>\n",
       "      <th>reviewerID</th>\n",
       "      <th>HelpfulnessNumerator</th>\n",
       "      <th>HelpfulnessDenominator</th>\n",
       "      <th>summary</th>\n",
       "      <th>reviewText</th>\n",
       "      <th>overall</th>\n",
       "      <th>Sentiment</th>\n",
       "      <th>Helpfulness</th>\n",
       "      <th>text_word_count</th>\n",
       "    </tr>\n",
       "  </thead>\n",
       "  <tbody>\n",
       "    <tr>\n",
       "      <th>0</th>\n",
       "      <td>A1N4O8VOJZTDVB</td>\n",
       "      <td>1</td>\n",
       "      <td>1</td>\n",
       "      <td>Really cute</td>\n",
       "      <td>Loves the song, so he really couldn't wait to ...</td>\n",
       "      <td>3.0</td>\n",
       "      <td>not defined</td>\n",
       "      <td>&gt;75%</td>\n",
       "      <td>41</td>\n",
       "    </tr>\n",
       "    <tr>\n",
       "      <th>1</th>\n",
       "      <td>A2HQWU6HUKIEC7</td>\n",
       "      <td>0</td>\n",
       "      <td>0</td>\n",
       "      <td>2-year-old loves it</td>\n",
       "      <td>Oh, how my little grandson loves this app. He'...</td>\n",
       "      <td>5.0</td>\n",
       "      <td>positive</td>\n",
       "      <td>useless</td>\n",
       "      <td>47</td>\n",
       "    </tr>\n",
       "    <tr>\n",
       "      <th>2</th>\n",
       "      <td>A1SXASF6GYG96I</td>\n",
       "      <td>0</td>\n",
       "      <td>0</td>\n",
       "      <td>Fun game</td>\n",
       "      <td>I found this at a perfect time since my daught...</td>\n",
       "      <td>5.0</td>\n",
       "      <td>positive</td>\n",
       "      <td>useless</td>\n",
       "      <td>52</td>\n",
       "    </tr>\n",
       "    <tr>\n",
       "      <th>3</th>\n",
       "      <td>A2B54P9ZDYH167</td>\n",
       "      <td>3</td>\n",
       "      <td>4</td>\n",
       "      <td>We love our Monkeys!</td>\n",
       "      <td>My 1 year old goes back to this game over and ...</td>\n",
       "      <td>5.0</td>\n",
       "      <td>positive</td>\n",
       "      <td>25-75%</td>\n",
       "      <td>40</td>\n",
       "    </tr>\n",
       "    <tr>\n",
       "      <th>4</th>\n",
       "      <td>AFOFZDTX5UC6D</td>\n",
       "      <td>1</td>\n",
       "      <td>1</td>\n",
       "      <td>This is my granddaughters favorite app on my K...</td>\n",
       "      <td>There are three different versions of the song...</td>\n",
       "      <td>5.0</td>\n",
       "      <td>positive</td>\n",
       "      <td>&gt;75%</td>\n",
       "      <td>134</td>\n",
       "    </tr>\n",
       "  </tbody>\n",
       "</table>\n",
       "</div>"
      ],
      "text/plain": [
       "       reviewerID  HelpfulnessNumerator  HelpfulnessDenominator  \\\n",
       "0  A1N4O8VOJZTDVB                     1                       1   \n",
       "1  A2HQWU6HUKIEC7                     0                       0   \n",
       "2  A1SXASF6GYG96I                     0                       0   \n",
       "3  A2B54P9ZDYH167                     3                       4   \n",
       "4   AFOFZDTX5UC6D                     1                       1   \n",
       "\n",
       "                                             summary  \\\n",
       "0                                        Really cute   \n",
       "1                                2-year-old loves it   \n",
       "2                                           Fun game   \n",
       "3                               We love our Monkeys!   \n",
       "4  This is my granddaughters favorite app on my K...   \n",
       "\n",
       "                                          reviewText  overall    Sentiment  \\\n",
       "0  Loves the song, so he really couldn't wait to ...      3.0  not defined   \n",
       "1  Oh, how my little grandson loves this app. He'...      5.0     positive   \n",
       "2  I found this at a perfect time since my daught...      5.0     positive   \n",
       "3  My 1 year old goes back to this game over and ...      5.0     positive   \n",
       "4  There are three different versions of the song...      5.0     positive   \n",
       "\n",
       "  Helpfulness  text_word_count  \n",
       "0        >75%               41  \n",
       "1     useless               47  \n",
       "2     useless               52  \n",
       "3      25-75%               40  \n",
       "4        >75%              134  "
      ]
     },
     "execution_count": 22,
     "metadata": {},
     "output_type": "execute_result"
    }
   ],
   "source": [
    "temp_df.head()"
   ]
  },
  {
   "cell_type": "code",
   "execution_count": 23,
   "metadata": {},
   "outputs": [
    {
     "name": "stdout",
     "output_type": "stream",
     "text": [
      "[31.0, 33.0, 31.0, 30.0, 29.0]\n"
     ]
    }
   ],
   "source": [
    "count_list = []\n",
    "for i in range(1,6):\n",
    "    count = temp_df[temp_df[\"overall\"] == i].text_word_count.median()\n",
    "    count_list.append(count)\n",
    "print(count_list)"
   ]
  },
  {
   "cell_type": "code",
   "execution_count": 24,
   "metadata": {},
   "outputs": [
    {
     "data": {
      "image/png": "[encoded data removed]",
      "text/plain": [
       "<Figure size 432x288 with 1 Axes>"
      ]
     },
     "metadata": {},
     "output_type": "display_data"
    }
   ],
   "source": [
    "sns.boxplot(x=\"overall\", y =\"text_word_count\", data=temp_df, showfliers=False)\n",
    "plt.show()"
   ]
  },
  {
   "cell_type": "markdown",
   "metadata": {},
   "source": [
    "5-star reviews had the lowest word count (29 words), while 2-star reviews had the largest word count (33 words)."
   ]
  },
  {
   "cell_type": "markdown",
   "metadata": {},
   "source": [
    "How does word count relate to helpfulness?"
   ]
  },
  {
   "cell_type": "code",
   "execution_count": 25,
   "metadata": {},
   "outputs": [
    {
     "name": "stderr",
     "output_type": "stream",
     "text": [
      "/Users/dimitriwilhelm/anaconda3/lib/python3.6/site-packages/scipy/stats/stats.py:1713: FutureWarning: Using a non-tuple sequence for multidimensional indexing is deprecated; use `arr[tuple(seq)]` instead of `arr[seq]`. In the future this will be interpreted as an array index, `arr[np.array(seq)]`, which will result either in an error or a different result.\n",
      "  return np.add.reduce(sorted[indexer] * weights, axis=axis) / sumval\n"
     ]
    },
    {
     "data": {
      "image/png": "[encoded data removed]",
      "text/plain": [
       "<Figure size 432x288 with 1 Axes>"
      ]
     },
     "metadata": {},
     "output_type": "display_data"
    }
   ],
   "source": [
    "sns.violinplot(x=\"Helpfulness\", y=\"text_word_count\", order=[\">75%\", \"25-75%\", \"<25%\"], data=temp_df)\n",
    "plt.ylim(-20, 100)\n",
    "plt.show()"
   ]
  },
  {
   "cell_type": "markdown",
   "metadata": {},
   "source": [
    "The reviews have a similar distribution with the greatest concentration of reviews of approximately 25-30 words. More helpful reviews have a larger concentraion of reviews with more words than less helpful reviews."
   ]
  },
  {
   "cell_type": "markdown",
   "metadata": {},
   "source": [
    "## Frequency of reviewers"
   ]
  },
  {
   "cell_type": "markdown",
   "metadata": {},
   "source": [
    "Using User IDs, one can recognize repeat reviewers. Reviewers that have reviewed over 50 products account for over 5% of all reviews in the database. We will call such reviewers frequent reviewers. (The cutoff choice of 50, as opposed to another choice, seemed to not have a larger impact on the results.) I asked: Does the behavior of frequent reviewers differ from that of infrequent reviewers?"
   ]
  },
  {
   "cell_type": "code",
   "execution_count": 26,
   "metadata": {},
   "outputs": [],
   "source": [
    "user_count = temp_df.reviewerID.value_counts()\n",
    "#user_count.to_dict()"
   ]
  },
  {
   "cell_type": "code",
   "execution_count": 27,
   "metadata": {},
   "outputs": [],
   "source": [
    "temp_df[\"reviewer_freq\"] = temp_df.reviewerID.apply(lambda counts: \"Frequent (>50 reviews)\" if user_count[counts] > 50 else \"Not Frequent (1-50)\")"
   ]
  },
  {
   "cell_type": "code",
   "execution_count": 28,
   "metadata": {},
   "outputs": [
    {
     "data": {
      "text/html": [
       "<div>\n",
       "<style scoped>\n",
       "    .dataframe tbody tr th:only-of-type {\n",
       "        vertical-align: middle;\n",
       "    }\n",
       "\n",
       "    .dataframe tbody tr th {\n",
       "        vertical-align: top;\n",
       "    }\n",
       "\n",
       "    .dataframe thead th {\n",
       "        text-align: right;\n",
       "    }\n",
       "</style>\n",
       "<table border=\"1\" class=\"dataframe\">\n",
       "  <thead>\n",
       "    <tr style=\"text-align: right;\">\n",
       "      <th></th>\n",
       "      <th>reviewerID</th>\n",
       "      <th>HelpfulnessNumerator</th>\n",
       "      <th>HelpfulnessDenominator</th>\n",
       "      <th>summary</th>\n",
       "      <th>reviewText</th>\n",
       "      <th>overall</th>\n",
       "      <th>Sentiment</th>\n",
       "      <th>Helpfulness</th>\n",
       "      <th>text_word_count</th>\n",
       "      <th>reviewer_freq</th>\n",
       "    </tr>\n",
       "  </thead>\n",
       "  <tbody>\n",
       "    <tr>\n",
       "      <th>0</th>\n",
       "      <td>A1N4O8VOJZTDVB</td>\n",
       "      <td>1</td>\n",
       "      <td>1</td>\n",
       "      <td>Really cute</td>\n",
       "      <td>Loves the song, so he really couldn't wait to ...</td>\n",
       "      <td>3.0</td>\n",
       "      <td>not defined</td>\n",
       "      <td>&gt;75%</td>\n",
       "      <td>41</td>\n",
       "      <td>Not Frequent (1-50)</td>\n",
       "    </tr>\n",
       "    <tr>\n",
       "      <th>1</th>\n",
       "      <td>A2HQWU6HUKIEC7</td>\n",
       "      <td>0</td>\n",
       "      <td>0</td>\n",
       "      <td>2-year-old loves it</td>\n",
       "      <td>Oh, how my little grandson loves this app. He'...</td>\n",
       "      <td>5.0</td>\n",
       "      <td>positive</td>\n",
       "      <td>useless</td>\n",
       "      <td>47</td>\n",
       "      <td>Not Frequent (1-50)</td>\n",
       "    </tr>\n",
       "    <tr>\n",
       "      <th>2</th>\n",
       "      <td>A1SXASF6GYG96I</td>\n",
       "      <td>0</td>\n",
       "      <td>0</td>\n",
       "      <td>Fun game</td>\n",
       "      <td>I found this at a perfect time since my daught...</td>\n",
       "      <td>5.0</td>\n",
       "      <td>positive</td>\n",
       "      <td>useless</td>\n",
       "      <td>52</td>\n",
       "      <td>Not Frequent (1-50)</td>\n",
       "    </tr>\n",
       "    <tr>\n",
       "      <th>3</th>\n",
       "      <td>A2B54P9ZDYH167</td>\n",
       "      <td>3</td>\n",
       "      <td>4</td>\n",
       "      <td>We love our Monkeys!</td>\n",
       "      <td>My 1 year old goes back to this game over and ...</td>\n",
       "      <td>5.0</td>\n",
       "      <td>positive</td>\n",
       "      <td>25-75%</td>\n",
       "      <td>40</td>\n",
       "      <td>Not Frequent (1-50)</td>\n",
       "    </tr>\n",
       "    <tr>\n",
       "      <th>4</th>\n",
       "      <td>AFOFZDTX5UC6D</td>\n",
       "      <td>1</td>\n",
       "      <td>1</td>\n",
       "      <td>This is my granddaughters favorite app on my K...</td>\n",
       "      <td>There are three different versions of the song...</td>\n",
       "      <td>5.0</td>\n",
       "      <td>positive</td>\n",
       "      <td>&gt;75%</td>\n",
       "      <td>134</td>\n",
       "      <td>Not Frequent (1-50)</td>\n",
       "    </tr>\n",
       "  </tbody>\n",
       "</table>\n",
       "</div>"
      ],
      "text/plain": [
       "       reviewerID  HelpfulnessNumerator  HelpfulnessDenominator  \\\n",
       "0  A1N4O8VOJZTDVB                     1                       1   \n",
       "1  A2HQWU6HUKIEC7                     0                       0   \n",
       "2  A1SXASF6GYG96I                     0                       0   \n",
       "3  A2B54P9ZDYH167                     3                       4   \n",
       "4   AFOFZDTX5UC6D                     1                       1   \n",
       "\n",
       "                                             summary  \\\n",
       "0                                        Really cute   \n",
       "1                                2-year-old loves it   \n",
       "2                                           Fun game   \n",
       "3                               We love our Monkeys!   \n",
       "4  This is my granddaughters favorite app on my K...   \n",
       "\n",
       "                                          reviewText  overall    Sentiment  \\\n",
       "0  Loves the song, so he really couldn't wait to ...      3.0  not defined   \n",
       "1  Oh, how my little grandson loves this app. He'...      5.0     positive   \n",
       "2  I found this at a perfect time since my daught...      5.0     positive   \n",
       "3  My 1 year old goes back to this game over and ...      5.0     positive   \n",
       "4  There are three different versions of the song...      5.0     positive   \n",
       "\n",
       "  Helpfulness  text_word_count        reviewer_freq  \n",
       "0        >75%               41  Not Frequent (1-50)  \n",
       "1     useless               47  Not Frequent (1-50)  \n",
       "2     useless               52  Not Frequent (1-50)  \n",
       "3      25-75%               40  Not Frequent (1-50)  \n",
       "4        >75%              134  Not Frequent (1-50)  "
      ]
     },
     "execution_count": 28,
     "metadata": {},
     "output_type": "execute_result"
    }
   ],
   "source": [
    "temp_df.head()"
   ]
  },
  {
   "cell_type": "markdown",
   "metadata": {},
   "source": [
    "## Are frequent reviews more discerning?"
   ]
  },
  {
   "cell_type": "markdown",
   "metadata": {},
   "source": [
    "The distribution of ratings among frequent reviewers is similar to that of all reviews. However, we can see that frequent reviewers give less 5-star reviews and less 1-star review. Frequent users appear to be more discerning in the sense that they give less extreme reviews than infrequent reviews."
   ]
  },
  {
   "cell_type": "code",
   "execution_count": 29,
   "metadata": {},
   "outputs": [
    {
     "data": {
      "image/png": "[encoded data removed]",
      "text/plain": [
       "<Figure size 720x720 with 2 Axes>"
      ]
     },
     "metadata": {},
     "output_type": "display_data"
    }
   ],
   "source": [
    "plt.figure(figsize=(10,10))\n",
    "ax = plt.subplot(121)\n",
    "sns.countplot(x=\"overall\", hue=\"reviewer_freq\", data=temp_df, ax=ax)\n",
    "\n",
    "ax1 = plt.subplot(122)\n",
    "sns.countplot(x=\"overall\", data=temp_df, ax=ax1)\n",
    "plt.show()"
   ]
  },
  {
   "cell_type": "code",
   "execution_count": 30,
   "metadata": {},
   "outputs": [
    {
     "data": {
      "image/png": "[encoded data removed]",
      "text/plain": [
       "<Figure size 432x288 with 1 Axes>"
      ]
     },
     "metadata": {},
     "output_type": "display_data"
    }
   ],
   "source": [
    "temp_df['Only'] = temp_df.reviewer_freq[temp_df.reviewer_freq == \"Frequent (>50 reviews)\"]\n",
    "sns.countplot(x=\"overall\", hue=\"Only\", data=temp_df)\n",
    "plt.show()"
   ]
  },
  {
   "cell_type": "code",
   "execution_count": 31,
   "metadata": {},
   "outputs": [],
   "source": [
    "reviewer_freq_overall_count = temp_df[temp_df.reviewer_freq == \"Frequent (>50 reviews)\"].overall.value_counts()\n",
    "total_reviewer_freq_overall_count = reviewer_freq_overall_count.sum()\n",
    "reviewer_freq_overall_count = (reviewer_freq_overall_count / total_reviewer_freq_overall_count)*100"
   ]
  },
  {
   "cell_type": "code",
   "execution_count": 32,
   "metadata": {},
   "outputs": [],
   "source": [
    "reviewer_Not_freq_overall_count = temp_df[temp_df.reviewer_freq == \"Not Frequent (1-50)\"].overall.value_counts()\n",
    "total_reviewer_Not_freq_overall_count = reviewer_Not_freq_overall_count.sum()\n",
    "reviewer_Not_freq_overall_count = (reviewer_Not_freq_overall_count / total_reviewer_Not_freq_overall_count)*100"
   ]
  },
  {
   "cell_type": "code",
   "execution_count": 33,
   "metadata": {
    "scrolled": true
   },
   "outputs": [
    {
     "data": {
      "image/png": "[encoded data removed]",
      "text/plain": [
       "<Figure size 720x720 with 2 Axes>"
      ]
     },
     "metadata": {},
     "output_type": "display_data"
    }
   ],
   "source": [
    "# Plotting\n",
    "plt.figure(figsize=(10,10))\n",
    "ax = plt.subplot(121)\n",
    "reviewer_freq_overall_count.plot(kind=\"bar\", ax=ax)\n",
    "plt.xlabel(\"Overall\")\n",
    "plt.ylabel(\"Percentage\")\n",
    "plt.title(\"Frequent (>50 reviews)\")\n",
    "\n",
    "ax1 = plt.subplot(122)\n",
    "reviewer_Not_freq_overall_count.plot(kind=\"bar\", ax=ax1)\n",
    "plt.xlabel(\"Overall\")\n",
    "plt.ylabel(\"Percentage\")\n",
    "plt.title(\"Not Frequent (1-50)\")\n",
    "plt.show()"
   ]
  },
  {
   "cell_type": "markdown",
   "metadata": {},
   "source": [
    "### Are frequent reviewers more helpful?"
   ]
  },
  {
   "cell_type": "markdown",
   "metadata": {},
   "source": [
    "The distribution of helpfulness for frequent reviewers is similar to that of all reviews. However, frequent reviewers are more likely to have their review voted on and when voted on, more likely to be voted helpful, and less likely to be unhelpful."
   ]
  },
  {
   "cell_type": "code",
   "execution_count": 36,
   "metadata": {},
   "outputs": [
    {
     "data": {
      "image/png": "[encoded data removed]",
      "text/plain": [
       "<Figure size 432x288 with 1 Axes>"
      ]
     },
     "metadata": {},
     "output_type": "display_data"
    }
   ],
   "source": [
    "sns.countplot(x=\"Helpfulness\", order=[\"useless\", \">75%\", \"25-75%\", \"<25%\"], hue=\"reviewer_freq\", data=temp_df)\n",
    "plt.show()"
   ]
  },
  {
   "cell_type": "markdown",
   "metadata": {},
   "source": [
    "### Are frequent reviewers more verbose?"
   ]
  },
  {
   "cell_type": "markdown",
   "metadata": {},
   "source": [
    "The distributions of word counts for frequent and infrequent reviews shows that infrequent reviewers have a large amount of reviews of low word count. Moreover, the median word count for frequent reviewers is higher than the median for infrequent reviewers."
   ]
  },
  {
   "cell_type": "code",
   "execution_count": 37,
   "metadata": {},
   "outputs": [
    {
     "name": "stderr",
     "output_type": "stream",
     "text": [
      "/Users/dimitriwilhelm/anaconda3/lib/python3.6/site-packages/scipy/stats/stats.py:1713: FutureWarning: Using a non-tuple sequence for multidimensional indexing is deprecated; use `arr[tuple(seq)]` instead of `arr[seq]`. In the future this will be interpreted as an array index, `arr[np.array(seq)]`, which will result either in an error or a different result.\n",
      "  return np.add.reduce(sorted[indexer] * weights, axis=axis) / sumval\n"
     ]
    },
    {
     "data": {
      "image/png": "[encoded data removed]",
      "text/plain": [
       "<Figure size 864x720 with 1 Axes>"
      ]
     },
     "metadata": {},
     "output_type": "display_data"
    }
   ],
   "source": [
    "plt.figure(figsize=(12,10))\n",
    "sns.violinplot(x=\"reviewer_freq\", y=\"text_word_count\", data=temp_df)\n",
    "plt.ylim(-50,210)\n",
    "plt.xlabel(\"Frequency of Reviewer\")\n",
    "plt.show()"
   ]
  },
  {
   "cell_type": "markdown",
   "metadata": {},
   "source": [
    "#### Conclusion\n",
    "- Positive reviews are very common\n",
    "- Positive reviews are shorter\n",
    "- Longer reviews are more helpful\n",
    "- Despite being more common and shorter, positive reviews are found more helpful\n",
    "- Frequent reviewers are more discerning in their ratings, write longer reviews, and write more helpful reviews"
   ]
  },
  {
   "cell_type": "markdown",
   "metadata": {},
   "source": [
    "### Create a dataframe with users, items and ratings"
   ]
  },
  {
   "cell_type": "code",
   "execution_count": 38,
   "metadata": {},
   "outputs": [],
   "source": [
    "df_Apps.reviewTime = pd.to_datetime(df_Apps.reviewTime)"
   ]
  },
  {
   "cell_type": "code",
   "execution_count": 39,
   "metadata": {},
   "outputs": [
    {
     "data": {
      "text/html": [
       "<div>\n",
       "<style scoped>\n",
       "    .dataframe tbody tr th:only-of-type {\n",
       "        vertical-align: middle;\n",
       "    }\n",
       "\n",
       "    .dataframe tbody tr th {\n",
       "        vertical-align: top;\n",
       "    }\n",
       "\n",
       "    .dataframe thead th {\n",
       "        text-align: right;\n",
       "    }\n",
       "</style>\n",
       "<table border=\"1\" class=\"dataframe\">\n",
       "  <thead>\n",
       "    <tr style=\"text-align: right;\">\n",
       "      <th></th>\n",
       "      <th>reviewerID</th>\n",
       "      <th>asin</th>\n",
       "      <th>overall</th>\n",
       "    </tr>\n",
       "  </thead>\n",
       "  <tbody>\n",
       "    <tr>\n",
       "      <th>0</th>\n",
       "      <td>A1N4O8VOJZTDVB</td>\n",
       "      <td>B004A9SDD8</td>\n",
       "      <td>3.0</td>\n",
       "    </tr>\n",
       "    <tr>\n",
       "      <th>1</th>\n",
       "      <td>A2HQWU6HUKIEC7</td>\n",
       "      <td>B004A9SDD8</td>\n",
       "      <td>5.0</td>\n",
       "    </tr>\n",
       "    <tr>\n",
       "      <th>2</th>\n",
       "      <td>A1SXASF6GYG96I</td>\n",
       "      <td>B004A9SDD8</td>\n",
       "      <td>5.0</td>\n",
       "    </tr>\n",
       "    <tr>\n",
       "      <th>3</th>\n",
       "      <td>A2B54P9ZDYH167</td>\n",
       "      <td>B004A9SDD8</td>\n",
       "      <td>5.0</td>\n",
       "    </tr>\n",
       "    <tr>\n",
       "      <th>4</th>\n",
       "      <td>AFOFZDTX5UC6D</td>\n",
       "      <td>B004A9SDD8</td>\n",
       "      <td>5.0</td>\n",
       "    </tr>\n",
       "  </tbody>\n",
       "</table>\n",
       "</div>"
      ],
      "text/plain": [
       "       reviewerID        asin  overall\n",
       "0  A1N4O8VOJZTDVB  B004A9SDD8      3.0\n",
       "1  A2HQWU6HUKIEC7  B004A9SDD8      5.0\n",
       "2  A1SXASF6GYG96I  B004A9SDD8      5.0\n",
       "3  A2B54P9ZDYH167  B004A9SDD8      5.0\n",
       "4   AFOFZDTX5UC6D  B004A9SDD8      5.0"
      ]
     },
     "execution_count": 39,
     "metadata": {},
     "output_type": "execute_result"
    }
   ],
   "source": [
    "df_user_item_rating = df_Apps[['reviewerID', 'asin', 'overall']]\n",
    "df_user_item_rating.head()"
   ]
  },
  {
   "cell_type": "code",
   "execution_count": 40,
   "metadata": {},
   "outputs": [],
   "source": [
    "# Save our cleaned data in csv\n",
    "df_user_item_rating.to_csv('cleaned_user_item_rating.csv')"
   ]
  },
  {
   "cell_type": "markdown",
   "metadata": {},
   "source": [
    "# Explorative Data Analysis (EDA)"
   ]
  },
  {
   "cell_type": "code",
   "execution_count": 41,
   "metadata": {},
   "outputs": [
    {
     "name": "stdout",
     "output_type": "stream",
     "text": [
      "752937 ratings\n"
     ]
    }
   ],
   "source": [
    "# total number of ratings\n",
    "total_num_ratings = len(df_user_item_rating.overall)\n",
    "print('{} ratings'.format(total_num_ratings))"
   ]
  },
  {
   "cell_type": "code",
   "execution_count": 42,
   "metadata": {},
   "outputs": [
    {
     "name": "stdout",
     "output_type": "stream",
     "text": [
      "87271 unique users\n"
     ]
    }
   ],
   "source": [
    "# number of unique users\n",
    "n_users = df_user_item_rating.reviewerID.unique().shape[0]\n",
    "print('{} unique users'.format(n_users))"
   ]
  },
  {
   "cell_type": "code",
   "execution_count": 43,
   "metadata": {},
   "outputs": [
    {
     "name": "stdout",
     "output_type": "stream",
     "text": [
      "13209 unique items\n"
     ]
    }
   ],
   "source": [
    "# number of unique items\n",
    "n_items = df_user_item_rating.asin.unique().shape[0]\n",
    "print('{} unique items'.format(n_items))"
   ]
  },
  {
   "cell_type": "code",
   "execution_count": 44,
   "metadata": {},
   "outputs": [
    {
     "name": "stdout",
     "output_type": "stream",
     "text": [
      "Sparsity: 0.07%\n"
     ]
    }
   ],
   "source": [
    "# sparsity of the user-item matrix\n",
    "sparsity = float(total_num_ratings) / (n_users * n_items) * 100\n",
    "print('Sparsity: {:4.2f}%'.format(sparsity))"
   ]
  },
  {
   "cell_type": "markdown",
   "metadata": {},
   "source": [
    "# Distribution of ratings"
   ]
  },
  {
   "cell_type": "markdown",
   "metadata": {},
   "source": [
    "We first look at the distribution of ratings among all of the reviews."
   ]
  },
  {
   "cell_type": "code",
   "execution_count": 45,
   "metadata": {},
   "outputs": [
    {
     "data": {
      "image/png": "[encoded data removed]",
      "text/plain": [
       "<Figure size 720x720 with 1 Axes>"
      ]
     },
     "metadata": {},
     "output_type": "display_data"
    }
   ],
   "source": [
    "plt.figure(figsize=(10,10))\n",
    "#plt.hist(df_user_item_rating.overall, bins=5)\n",
    "sns.countplot(df_user_item_rating.overall)\n",
    "plt.title('Frequency of Ratings')\n",
    "plt.xlabel('Ratings')\n",
    "plt.ylabel('Frequency')\n",
    "plt.show()"
   ]
  },
  {
   "cell_type": "code",
   "execution_count": 46,
   "metadata": {},
   "outputs": [
    {
     "data": {
      "text/plain": [
       "asin\n",
       "B00HBDAGH6    5.0\n",
       "B00HDTSTKY    5.0\n",
       "B00AFAHUXU    5.0\n",
       "B004W967J8    5.0\n",
       "B00IHNXIWY    5.0\n",
       "Name: overall, dtype: float64"
      ]
     },
     "execution_count": 46,
     "metadata": {},
     "output_type": "execute_result"
    }
   ],
   "source": [
    "# Take a look at the average rating of each movie. To do so, we can group the dataset by the asin of the product\n",
    "# and then calculate the mean of the rating for each product and sort the ratings in the descending order \n",
    "# of their average ratings: \n",
    "mean_ratings = df_user_item_rating.groupby('asin')['overall'].mean().sort_values(ascending=False)\n",
    "mean_ratings.head()\n",
    "# mean_ratings = ratings.groupby(['timestamp', 'genres'], as_index=False)['rating'].aggregate(np.mean)"
   ]
  },
  {
   "cell_type": "code",
   "execution_count": 47,
   "metadata": {},
   "outputs": [
    {
     "data": {
      "text/plain": [
       "asin\n",
       "B00FAPF5U0    6282\n",
       "B0086700CM    4637\n",
       "B00992CF6W    4018\n",
       "B009UX2YAC    3814\n",
       "B0064X7B4A    3763\n",
       "Name: overall, dtype: int64"
      ]
     },
     "execution_count": 47,
     "metadata": {},
     "output_type": "execute_result"
    }
   ],
   "source": [
    "# However we have a problem. A product can make it to the top of the above list even if only a single user\n",
    "# has given it five stars. Therefore, the above stats can be misleading. Normally, a product which is really\n",
    "# a good one gets a higher rating by a large number of users.\n",
    "count_ratings = df_user_item_rating.groupby('asin')['overall'].count().sort_values(ascending=False)\n",
    "count_ratings.head()"
   ]
  },
  {
   "cell_type": "code",
   "execution_count": 48,
   "metadata": {},
   "outputs": [
    {
     "data": {
      "text/html": [
       "<div>\n",
       "<style scoped>\n",
       "    .dataframe tbody tr th:only-of-type {\n",
       "        vertical-align: middle;\n",
       "    }\n",
       "\n",
       "    .dataframe tbody tr th {\n",
       "        vertical-align: top;\n",
       "    }\n",
       "\n",
       "    .dataframe thead th {\n",
       "        text-align: right;\n",
       "    }\n",
       "</style>\n",
       "<table border=\"1\" class=\"dataframe\">\n",
       "  <thead>\n",
       "    <tr style=\"text-align: right;\">\n",
       "      <th></th>\n",
       "      <th>overall</th>\n",
       "      <th>count_ratings</th>\n",
       "    </tr>\n",
       "    <tr>\n",
       "      <th>asin</th>\n",
       "      <th></th>\n",
       "      <th></th>\n",
       "    </tr>\n",
       "  </thead>\n",
       "  <tbody>\n",
       "    <tr>\n",
       "      <th>B00FAPF5U0</th>\n",
       "      <td>4.364534</td>\n",
       "      <td>6282</td>\n",
       "    </tr>\n",
       "    <tr>\n",
       "      <th>B0086700CM</th>\n",
       "      <td>4.566314</td>\n",
       "      <td>4637</td>\n",
       "    </tr>\n",
       "    <tr>\n",
       "      <th>B00992CF6W</th>\n",
       "      <td>4.472872</td>\n",
       "      <td>4018</td>\n",
       "    </tr>\n",
       "    <tr>\n",
       "      <th>B009UX2YAC</th>\n",
       "      <td>4.581542</td>\n",
       "      <td>3814</td>\n",
       "    </tr>\n",
       "    <tr>\n",
       "      <th>B0064X7B4A</th>\n",
       "      <td>4.238639</td>\n",
       "      <td>3763</td>\n",
       "    </tr>\n",
       "    <tr>\n",
       "      <th>B00DJFIMW6</th>\n",
       "      <td>4.339149</td>\n",
       "      <td>3668</td>\n",
       "    </tr>\n",
       "    <tr>\n",
       "      <th>B0054JZC6E</th>\n",
       "      <td>4.245518</td>\n",
       "      <td>3458</td>\n",
       "    </tr>\n",
       "    <tr>\n",
       "      <th>B0063IH60K</th>\n",
       "      <td>4.423837</td>\n",
       "      <td>3440</td>\n",
       "    </tr>\n",
       "    <tr>\n",
       "      <th>B005ZXWMUS</th>\n",
       "      <td>4.298044</td>\n",
       "      <td>3221</td>\n",
       "    </tr>\n",
       "    <tr>\n",
       "      <th>B009HKL4B8</th>\n",
       "      <td>4.169334</td>\n",
       "      <td>3124</td>\n",
       "    </tr>\n",
       "    <tr>\n",
       "      <th>B00B2V66VS</th>\n",
       "      <td>4.321608</td>\n",
       "      <td>2985</td>\n",
       "    </tr>\n",
       "    <tr>\n",
       "      <th>B008JGSM6G</th>\n",
       "      <td>4.556979</td>\n",
       "      <td>2966</td>\n",
       "    </tr>\n",
       "    <tr>\n",
       "      <th>B00I8Q77Y0</th>\n",
       "      <td>4.428622</td>\n",
       "      <td>2830</td>\n",
       "    </tr>\n",
       "    <tr>\n",
       "      <th>B00CWY76CC</th>\n",
       "      <td>4.334328</td>\n",
       "      <td>2680</td>\n",
       "    </tr>\n",
       "    <tr>\n",
       "      <th>B00G5LQ5MU</th>\n",
       "      <td>4.036163</td>\n",
       "      <td>2627</td>\n",
       "    </tr>\n",
       "    <tr>\n",
       "      <th>B0094BB4TW</th>\n",
       "      <td>3.845392</td>\n",
       "      <td>2626</td>\n",
       "    </tr>\n",
       "    <tr>\n",
       "      <th>B00AREIAI8</th>\n",
       "      <td>4.567392</td>\n",
       "      <td>2619</td>\n",
       "    </tr>\n",
       "    <tr>\n",
       "      <th>B00E8KLWB4</th>\n",
       "      <td>3.944208</td>\n",
       "      <td>2348</td>\n",
       "    </tr>\n",
       "    <tr>\n",
       "      <th>B007ZGO7EM</th>\n",
       "      <td>4.689097</td>\n",
       "      <td>2348</td>\n",
       "    </tr>\n",
       "    <tr>\n",
       "      <th>B006D1ONE4</th>\n",
       "      <td>4.675237</td>\n",
       "      <td>2217</td>\n",
       "    </tr>\n",
       "  </tbody>\n",
       "</table>\n",
       "</div>"
      ],
      "text/plain": [
       "             overall  count_ratings\n",
       "asin                               \n",
       "B00FAPF5U0  4.364534           6282\n",
       "B0086700CM  4.566314           4637\n",
       "B00992CF6W  4.472872           4018\n",
       "B009UX2YAC  4.581542           3814\n",
       "B0064X7B4A  4.238639           3763\n",
       "B00DJFIMW6  4.339149           3668\n",
       "B0054JZC6E  4.245518           3458\n",
       "B0063IH60K  4.423837           3440\n",
       "B005ZXWMUS  4.298044           3221\n",
       "B009HKL4B8  4.169334           3124\n",
       "B00B2V66VS  4.321608           2985\n",
       "B008JGSM6G  4.556979           2966\n",
       "B00I8Q77Y0  4.428622           2830\n",
       "B00CWY76CC  4.334328           2680\n",
       "B00G5LQ5MU  4.036163           2627\n",
       "B0094BB4TW  3.845392           2626\n",
       "B00AREIAI8  4.567392           2619\n",
       "B00E8KLWB4  3.944208           2348\n",
       "B007ZGO7EM  4.689097           2348\n",
       "B006D1ONE4  4.675237           2217"
      ]
     },
     "execution_count": 48,
     "metadata": {},
     "output_type": "execute_result"
    }
   ],
   "source": [
    "# Now we can see some really good product at the top. The above list supports our point that good products\n",
    "# normally receive higher ratings. Now we know that both the average rating per product and the number of\n",
    "# ratings per product are import attributes. \n",
    "\n",
    "# Let's create a new dataframe that contains both of these attributes\n",
    "mean_count_ratings = pd.DataFrame(df_user_item_rating.groupby('asin')['overall'].mean())\n",
    "\n",
    "# Next, we need to add the number of ratings for a product to the mean_count_ratings dataframe.\n",
    "mean_count_ratings['count_ratings'] = pd.DataFrame(df_user_item_rating.groupby('asin')['overall'].count())\n",
    "\n",
    "# let's take a look at our newly created dataframe\n",
    "mean_count_ratings.sort_values(ascending=False, by='count_ratings').head(20)\n",
    "# Output: We see product asin, along with the average rating and number of ratings per product."
   ]
  },
  {
   "cell_type": "code",
   "execution_count": 49,
   "metadata": {},
   "outputs": [
    {
     "name": "stderr",
     "output_type": "stream",
     "text": [
      "/Users/dimitriwilhelm/anaconda3/lib/python3.6/site-packages/matplotlib/axes/_axes.py:6462: UserWarning: The 'normed' kwarg is deprecated, and has been replaced by the 'density' kwarg.\n",
      "  warnings.warn(\"The 'normed' kwarg is deprecated, and has been \"\n"
     ]
    },
    {
     "data": {
      "image/png": "[encoded data removed]",
      "text/plain": [
       "<Figure size 864x720 with 1 Axes>"
      ]
     },
     "metadata": {},
     "output_type": "display_data"
    }
   ],
   "source": [
    "# Let's plot a histogram for the number of ratings represented by the \"count_ratings\" column in the above dataframe\n",
    "plt.figure(figsize=(12,10))\n",
    "sns.distplot(mean_count_ratings.count_ratings, bins=50, kde=False)\n",
    "plt.rcParams['patch.force_edgecolor'] = False\n",
    "plt.ylim(0,100)\n",
    "plt.show()"
   ]
  },
  {
   "cell_type": "code",
   "execution_count": 50,
   "metadata": {},
   "outputs": [],
   "source": [
    "# From the output, you can see that most of the products have received less than 2000 ratings.\n",
    "# While the number of products having more than 4000 ratings is very low."
   ]
  },
  {
   "cell_type": "code",
   "execution_count": 51,
   "metadata": {
    "scrolled": true
   },
   "outputs": [
    {
     "name": "stderr",
     "output_type": "stream",
     "text": [
      "/Users/dimitriwilhelm/anaconda3/lib/python3.6/site-packages/matplotlib/axes/_axes.py:6462: UserWarning: The 'normed' kwarg is deprecated, and has been replaced by the 'density' kwarg.\n",
      "  warnings.warn(\"The 'normed' kwarg is deprecated, and has been \"\n"
     ]
    },
    {
     "data": {
      "image/png": "[encoded data removed]",
      "text/plain": [
       "<Figure size 864x720 with 1 Axes>"
      ]
     },
     "metadata": {},
     "output_type": "display_data"
    }
   ],
   "source": [
    "# let's plot a histogram for average ratings:\n",
    "plt.figure(figsize=(12,10))\n",
    "sns.distplot(mean_count_ratings.overall, bins=50, kde=False)\n",
    "plt.rcParams['patch.force_edgecolor'] = False\n",
    "plt.show()"
   ]
  },
  {
   "cell_type": "code",
   "execution_count": 52,
   "metadata": {},
   "outputs": [],
   "source": [
    "# You can see that the integer values have taller bars than the floating values since user assign rating\n",
    "# as integer value i.e. 1,2,3,4 or 5. Furthermore, we see that the data has a weak normal distribution\n",
    "# with the mean of around 4. There are a few outliers in the data."
   ]
  },
  {
   "cell_type": "code",
   "execution_count": 53,
   "metadata": {},
   "outputs": [
    {
     "name": "stderr",
     "output_type": "stream",
     "text": [
      "/Users/dimitriwilhelm/anaconda3/lib/python3.6/site-packages/scipy/stats/stats.py:1713: FutureWarning: Using a non-tuple sequence for multidimensional indexing is deprecated; use `arr[tuple(seq)]` instead of `arr[seq]`. In the future this will be interpreted as an array index, `arr[np.array(seq)]`, which will result either in an error or a different result.\n",
      "  return np.add.reduce(sorted[indexer] * weights, axis=axis) / sumval\n",
      "/Users/dimitriwilhelm/anaconda3/lib/python3.6/site-packages/matplotlib/axes/_axes.py:6462: UserWarning: The 'normed' kwarg is deprecated, and has been replaced by the 'density' kwarg.\n",
      "  warnings.warn(\"The 'normed' kwarg is deprecated, and has been \"\n",
      "/Users/dimitriwilhelm/anaconda3/lib/python3.6/site-packages/matplotlib/axes/_axes.py:6462: UserWarning: The 'normed' kwarg is deprecated, and has been replaced by the 'density' kwarg.\n",
      "  warnings.warn(\"The 'normed' kwarg is deprecated, and has been \"\n"
     ]
    },
    {
     "data": {
      "text/plain": [
       "<Figure size 720x432 with 0 Axes>"
      ]
     },
     "metadata": {},
     "output_type": "display_data"
    },
    {
     "data": {
      "image/png": "[encoded data removed]",
      "text/plain": [
       "<Figure size 432x432 with 3 Axes>"
      ]
     },
     "metadata": {},
     "output_type": "display_data"
    }
   ],
   "source": [
    "# We expect that products with a higher number of ratings usually have a high average rating as well\n",
    "# since a good product is normally well-known and a well-known product is bough by a large number of people,\n",
    "# and thus usually has a higher rating. \n",
    "# We will plot average ratings against the number of ratings\n",
    "\n",
    "plt.figure(figsize=(10,6))\n",
    "sns.jointplot(x=\"overall\", y=\"count_ratings\", data=mean_count_ratings, alpha=0.8)\n",
    "plt.show()"
   ]
  },
  {
   "cell_type": "code",
   "execution_count": 54,
   "metadata": {},
   "outputs": [],
   "source": [
    "# The output shows that, in general, products with higher average ratings actually have more number of ratings,\n",
    "# compared with products that have lower average ratings."
   ]
  },
  {
   "cell_type": "markdown",
   "metadata": {},
   "source": [
    "We spent a bit of time on visualizing and preprocessing our data. Now it is time to make a recommendation; see ..."
   ]
  },
  {
   "cell_type": "markdown",
   "metadata": {},
   "source": [
    "rating matrix with one row per user and one column per movie using the 'pivot table' function"
   ]
  },
  {
   "cell_type": "code",
   "execution_count": 113,
   "metadata": {},
   "outputs": [],
   "source": [
    "ratings = df_Apps[:1000].pivot(index='reviewerID', columns='asin', values='overall').fillna(0)"
   ]
  },
  {
   "cell_type": "code",
   "execution_count": 177,
   "metadata": {},
   "outputs": [
    {
     "data": {
      "text/html": [
       "<div>\n",
       "<style scoped>\n",
       "    .dataframe tbody tr th:only-of-type {\n",
       "        vertical-align: middle;\n",
       "    }\n",
       "\n",
       "    .dataframe tbody tr th {\n",
       "        vertical-align: top;\n",
       "    }\n",
       "\n",
       "    .dataframe thead th {\n",
       "        text-align: right;\n",
       "    }\n",
       "</style>\n",
       "<table border=\"1\" class=\"dataframe\">\n",
       "  <thead>\n",
       "    <tr style=\"text-align: right;\">\n",
       "      <th>asin</th>\n",
       "      <th>B004A9SDD8</th>\n",
       "      <th>B004AFQAUA</th>\n",
       "      <th>B004AHBBPW</th>\n",
       "      <th>B004ALVL6W</th>\n",
       "      <th>B004AMAIZQ</th>\n",
       "      <th>B004AMDC86</th>\n",
       "      <th>B004ANC00Q</th>\n",
       "      <th>B004ANE2WU</th>\n",
       "      <th>B004ANMWPY</th>\n",
       "      <th>B004AZH4C8</th>\n",
       "      <th>B004AZSY4K</th>\n",
       "      <th>B004BN3YQE</th>\n",
       "      <th>B004C4FL5Y</th>\n",
       "      <th>B004CN7Y4G</th>\n",
       "      <th>B004DJXQDC</th>\n",
       "      <th>B004DKSUXC</th>\n",
       "      <th>B004DLLNFS</th>\n",
       "      <th>B004DLNBDA</th>\n",
       "      <th>B004DLNC4I</th>\n",
       "    </tr>\n",
       "    <tr>\n",
       "      <th>reviewerID</th>\n",
       "      <th></th>\n",
       "      <th></th>\n",
       "      <th></th>\n",
       "      <th></th>\n",
       "      <th></th>\n",
       "      <th></th>\n",
       "      <th></th>\n",
       "      <th></th>\n",
       "      <th></th>\n",
       "      <th></th>\n",
       "      <th></th>\n",
       "      <th></th>\n",
       "      <th></th>\n",
       "      <th></th>\n",
       "      <th></th>\n",
       "      <th></th>\n",
       "      <th></th>\n",
       "      <th></th>\n",
       "      <th></th>\n",
       "    </tr>\n",
       "  </thead>\n",
       "  <tbody>\n",
       "    <tr>\n",
       "      <th>A08839553NG2E57YWLLVC</th>\n",
       "      <td>0.0</td>\n",
       "      <td>0.0</td>\n",
       "      <td>5.0</td>\n",
       "      <td>0.0</td>\n",
       "      <td>0.0</td>\n",
       "      <td>0.0</td>\n",
       "      <td>0.0</td>\n",
       "      <td>0.0</td>\n",
       "      <td>0.0</td>\n",
       "      <td>0.0</td>\n",
       "      <td>0.0</td>\n",
       "      <td>0.0</td>\n",
       "      <td>0.0</td>\n",
       "      <td>0.0</td>\n",
       "      <td>0.0</td>\n",
       "      <td>0.0</td>\n",
       "      <td>0.0</td>\n",
       "      <td>0.0</td>\n",
       "      <td>0.0</td>\n",
       "    </tr>\n",
       "    <tr>\n",
       "      <th>A104HHVVMF2GR</th>\n",
       "      <td>0.0</td>\n",
       "      <td>0.0</td>\n",
       "      <td>0.0</td>\n",
       "      <td>0.0</td>\n",
       "      <td>0.0</td>\n",
       "      <td>0.0</td>\n",
       "      <td>0.0</td>\n",
       "      <td>0.0</td>\n",
       "      <td>5.0</td>\n",
       "      <td>0.0</td>\n",
       "      <td>0.0</td>\n",
       "      <td>0.0</td>\n",
       "      <td>0.0</td>\n",
       "      <td>0.0</td>\n",
       "      <td>0.0</td>\n",
       "      <td>0.0</td>\n",
       "      <td>0.0</td>\n",
       "      <td>0.0</td>\n",
       "      <td>0.0</td>\n",
       "    </tr>\n",
       "    <tr>\n",
       "      <th>A10ANCEOWK5GBN</th>\n",
       "      <td>0.0</td>\n",
       "      <td>0.0</td>\n",
       "      <td>0.0</td>\n",
       "      <td>0.0</td>\n",
       "      <td>0.0</td>\n",
       "      <td>0.0</td>\n",
       "      <td>0.0</td>\n",
       "      <td>0.0</td>\n",
       "      <td>1.0</td>\n",
       "      <td>0.0</td>\n",
       "      <td>0.0</td>\n",
       "      <td>0.0</td>\n",
       "      <td>0.0</td>\n",
       "      <td>0.0</td>\n",
       "      <td>0.0</td>\n",
       "      <td>0.0</td>\n",
       "      <td>0.0</td>\n",
       "      <td>0.0</td>\n",
       "      <td>0.0</td>\n",
       "    </tr>\n",
       "    <tr>\n",
       "      <th>A10NF7H12HFAD1</th>\n",
       "      <td>0.0</td>\n",
       "      <td>0.0</td>\n",
       "      <td>0.0</td>\n",
       "      <td>0.0</td>\n",
       "      <td>0.0</td>\n",
       "      <td>0.0</td>\n",
       "      <td>0.0</td>\n",
       "      <td>0.0</td>\n",
       "      <td>1.0</td>\n",
       "      <td>0.0</td>\n",
       "      <td>0.0</td>\n",
       "      <td>0.0</td>\n",
       "      <td>0.0</td>\n",
       "      <td>0.0</td>\n",
       "      <td>0.0</td>\n",
       "      <td>0.0</td>\n",
       "      <td>0.0</td>\n",
       "      <td>0.0</td>\n",
       "      <td>0.0</td>\n",
       "    </tr>\n",
       "    <tr>\n",
       "      <th>A10ZT9TI8O98K4</th>\n",
       "      <td>0.0</td>\n",
       "      <td>0.0</td>\n",
       "      <td>0.0</td>\n",
       "      <td>0.0</td>\n",
       "      <td>0.0</td>\n",
       "      <td>0.0</td>\n",
       "      <td>5.0</td>\n",
       "      <td>0.0</td>\n",
       "      <td>0.0</td>\n",
       "      <td>0.0</td>\n",
       "      <td>0.0</td>\n",
       "      <td>0.0</td>\n",
       "      <td>0.0</td>\n",
       "      <td>0.0</td>\n",
       "      <td>0.0</td>\n",
       "      <td>0.0</td>\n",
       "      <td>0.0</td>\n",
       "      <td>0.0</td>\n",
       "      <td>0.0</td>\n",
       "    </tr>\n",
       "  </tbody>\n",
       "</table>\n",
       "</div>"
      ],
      "text/plain": [
       "asin                   B004A9SDD8  B004AFQAUA  B004AHBBPW  B004ALVL6W  \\\n",
       "reviewerID                                                              \n",
       "A08839553NG2E57YWLLVC         0.0         0.0         5.0         0.0   \n",
       "A104HHVVMF2GR                 0.0         0.0         0.0         0.0   \n",
       "A10ANCEOWK5GBN                0.0         0.0         0.0         0.0   \n",
       "A10NF7H12HFAD1                0.0         0.0         0.0         0.0   \n",
       "A10ZT9TI8O98K4                0.0         0.0         0.0         0.0   \n",
       "\n",
       "asin                   B004AMAIZQ  B004AMDC86  B004ANC00Q  B004ANE2WU  \\\n",
       "reviewerID                                                              \n",
       "A08839553NG2E57YWLLVC         0.0         0.0         0.0         0.0   \n",
       "A104HHVVMF2GR                 0.0         0.0         0.0         0.0   \n",
       "A10ANCEOWK5GBN                0.0         0.0         0.0         0.0   \n",
       "A10NF7H12HFAD1                0.0         0.0         0.0         0.0   \n",
       "A10ZT9TI8O98K4                0.0         0.0         5.0         0.0   \n",
       "\n",
       "asin                   B004ANMWPY  B004AZH4C8  B004AZSY4K  B004BN3YQE  \\\n",
       "reviewerID                                                              \n",
       "A08839553NG2E57YWLLVC         0.0         0.0         0.0         0.0   \n",
       "A104HHVVMF2GR                 5.0         0.0         0.0         0.0   \n",
       "A10ANCEOWK5GBN                1.0         0.0         0.0         0.0   \n",
       "A10NF7H12HFAD1                1.0         0.0         0.0         0.0   \n",
       "A10ZT9TI8O98K4                0.0         0.0         0.0         0.0   \n",
       "\n",
       "asin                   B004C4FL5Y  B004CN7Y4G  B004DJXQDC  B004DKSUXC  \\\n",
       "reviewerID                                                              \n",
       "A08839553NG2E57YWLLVC         0.0         0.0         0.0         0.0   \n",
       "A104HHVVMF2GR                 0.0         0.0         0.0         0.0   \n",
       "A10ANCEOWK5GBN                0.0         0.0         0.0         0.0   \n",
       "A10NF7H12HFAD1                0.0         0.0         0.0         0.0   \n",
       "A10ZT9TI8O98K4                0.0         0.0         0.0         0.0   \n",
       "\n",
       "asin                   B004DLLNFS  B004DLNBDA  B004DLNC4I  \n",
       "reviewerID                                                 \n",
       "A08839553NG2E57YWLLVC         0.0         0.0         0.0  \n",
       "A104HHVVMF2GR                 0.0         0.0         0.0  \n",
       "A10ANCEOWK5GBN                0.0         0.0         0.0  \n",
       "A10NF7H12HFAD1                0.0         0.0         0.0  \n",
       "A10ZT9TI8O98K4                0.0         0.0         0.0  "
      ]
     },
     "execution_count": 177,
     "metadata": {},
     "output_type": "execute_result"
    }
   ],
   "source": [
    "ratings.head()"
   ]
  },
  {
   "cell_type": "code",
   "execution_count": 117,
   "metadata": {},
   "outputs": [],
   "source": [
    "R = ratings.values\n",
    "user_ratings_mean = np.mean(R, axis=1)\n",
    "rating_demand = R - user_ratings_mean.reshape(-1,1)"
   ]
  },
  {
   "cell_type": "code",
   "execution_count": 119,
   "metadata": {},
   "outputs": [],
   "source": [
    "U, sigma, Vt = svds(rating_demand, k=5) # k is the number of factors\n",
    "\n",
    "# convert sigma to a diagonal matrix form\n",
    "sigma = np.diag(sigma)"
   ]
  },
  {
   "cell_type": "code",
   "execution_count": 164,
   "metadata": {},
   "outputs": [],
   "source": [
    "# Making predictions from the decomposed matrices\n",
    "# We need to add the user means back to get the predicted 5-star ratings\n",
    "full_ratings = pd.DataFrame(np.dot(U, Vt) + user_ratings_mean.reshape(-1,1), columns=ratings.columns)"
   ]
  },
  {
   "cell_type": "code",
   "execution_count": 180,
   "metadata": {},
   "outputs": [
    {
     "data": {
      "text/plain": [
       "asin\n",
       "B004AHBBPW    0.367366\n",
       "B004AMDC86    0.260086\n",
       "B004ANMWPY    0.259959\n",
       "B004AZH4C8    0.259222\n",
       "B004DJXQDC    0.258940\n",
       "B004ANE2WU    0.258874\n",
       "B004AMAIZQ    0.258689\n",
       "B004DKSUXC    0.258660\n",
       "B004CN7Y4G    0.258465\n",
       "B004BN3YQE    0.258412\n",
       "Name: 0, dtype: float64"
      ]
     },
     "execution_count": 180,
     "metadata": {},
     "output_type": "execute_result"
    }
   ],
   "source": [
    "# Making predictions for user 1 top 10\n",
    "prediction_user_0 = full_ratings.loc[0].sort_values(ascending=False)[:10]\n",
    "prediction_user_0"
   ]
  },
  {
   "cell_type": "code",
   "execution_count": null,
   "metadata": {},
   "outputs": [],
   "source": []
  },
  {
   "cell_type": "code",
   "execution_count": 56,
   "metadata": {},
   "outputs": [],
   "source": [
    "def get_interactions():\n",
    "    df_user_item_rating = pd.read_csv('cleaned_user_item_rating.csv')\n",
    "    df_user_item_rating = df_user_item_rating.drop(columns=['Unnamed: 0'])[:10000]\n",
    "    df_user_item_rating['reviewerID'] = pd.factorize(df_user_item_rating['reviewerID'])[0] + 1\n",
    "    df_user_item_rating['asin'] = pd.factorize(df_user_item_rating['asin'])[0] + 1\n",
    "    \n",
    "    # number of unique users\n",
    "    n_users = df_user_item_rating.reviewerID.unique().shape[0]\n",
    "    #print('{} unique users'.format(n_users))\n",
    "    \n",
    "    # number of unique items\n",
    "    n_items = df_user_item_rating.asin.unique().shape[0]\n",
    "    #print('{} unique items'.format(n_items))\n",
    "    \n",
    "    interactions = np.zeros((n_users, n_items))\n",
    "    for row in df_user_item_rating.itertuples():\n",
    "        interactions[row[1] - 1, row[2] - 1] = row[3]\n",
    "    return interactions, n_users, n_items"
   ]
  },
  {
   "cell_type": "code",
   "execution_count": 102,
   "metadata": {},
   "outputs": [
    {
     "name": "stdout",
     "output_type": "stream",
     "text": [
      "number of unique products: 113\n",
      "number of unique users: 8235\n"
     ]
    }
   ],
   "source": [
    "print(f'number of unique products: {n_items}')\n",
    "print(f'number of unique users: {n_users}')"
   ]
  },
  {
   "cell_type": "markdown",
   "metadata": {},
   "source": [
    "Given the underwhelming performance of our matrix factorization model, we try a simple feedforward recommendation system instead. \n",
    "\n",
    "\n",
    "Input of this neural network is a pair of user and item represented by their IDs. Both user and item IDs first pass through an embedding layer. The output of the embedding layer, which are two embedding vectors, are then concatenated into one and passed into a linear network. \n",
    "\n",
    "\n",
    "Output of the linear network is one dimensional - representing the rating for the user-item pair. "
   ]
  },
  {
   "cell_type": "markdown",
   "metadata": {},
   "source": [
    "The model is fit the same way as the matrix factorization model and uses the standard PyTorch approach of forward passing, computing the loss, backpropagating and updating weights."
   ]
  },
  {
   "cell_type": "code",
   "execution_count": 57,
   "metadata": {},
   "outputs": [],
   "source": [
    "def train_test_split(interactions, n=2):\n",
    "    \"\"\"\n",
    "    Split an interactions matrix into training and test sets.\n",
    "    Parameters\n",
    "    ----------\n",
    "    interactions : np.ndarray\n",
    "    n : int (default=2)\n",
    "        Number of items to select / row to place into test.\n",
    "    Returns\n",
    "    -------\n",
    "    train : np.ndarray\n",
    "    test : np.ndarray\n",
    "    \"\"\"\n",
    "    test = np.zeros(interactions.shape)\n",
    "    train = interactions.copy()\n",
    "    for user in range(interactions.shape[0]):\n",
    "        if interactions[user, :].nonzero()[0].shape[0] > n:\n",
    "            test_interactions = np.random.choice(interactions[user, :].nonzero()[0],\n",
    "                                                 size=n,\n",
    "                                                 replace=False)\n",
    "            train[user, test_interactions] = 0.\n",
    "            test[user, test_interactions] = interactions[user, test_interactions]\n",
    "\n",
    "    # Test and training are truly disjoint\n",
    "    assert(np.all((train * test) == 0))\n",
    "    return train, test"
   ]
  },
  {
   "cell_type": "code",
   "execution_count": 58,
   "metadata": {},
   "outputs": [],
   "source": [
    "def interactions_train_test_split(interactions):\n",
    "    interactions, _, _ = get_interactions()\n",
    "    train, test = train_test_split(interactions)\n",
    "    train = sparse.coo_matrix(train)\n",
    "    test = sparse.coo_matrix(test)\n",
    "    return train, test"
   ]
  },
  {
   "cell_type": "code",
   "execution_count": 59,
   "metadata": {},
   "outputs": [],
   "source": [
    "# normalize into [0,1]\n",
    "def normalize(ratings):\n",
    "    ratings = ratings.copy()\n",
    "    max_ratings = ratings.max()\n",
    "    ratings = ratings*1.0/max_ratings\n",
    "    return ratings"
   ]
  },
  {
   "cell_type": "code",
   "execution_count": 60,
   "metadata": {},
   "outputs": [],
   "source": [
    "def seq_rating(training_data):\n",
    "    n_users = training_data.shape[0]\n",
    "    sequence = []\n",
    "    ratings = []\n",
    "    for users in range(0, n_users):\n",
    "        sequence.append(np.nonzero(training_data.toarray()[users])[0])\n",
    "        ratings.append(training_data.toarray()[users][[np.nonzero(training_data.toarray()[users])[0]]])\n",
    "    return sequence, ratings"
   ]
  },
  {
   "cell_type": "code",
   "execution_count": 61,
   "metadata": {},
   "outputs": [],
   "source": [
    "interactions, n_users, n_items = get_interactions()"
   ]
  },
  {
   "cell_type": "code",
   "execution_count": 62,
   "metadata": {},
   "outputs": [],
   "source": [
    "training_data, test_data = interactions_train_test_split(interactions)"
   ]
  },
  {
   "cell_type": "code",
   "execution_count": 63,
   "metadata": {},
   "outputs": [],
   "source": [
    "training_data.data = normalize(training_data.data)\n",
    "test_data.data = normalize(test_data.data)"
   ]
  },
  {
   "cell_type": "markdown",
   "metadata": {},
   "source": [
    "# Matrix Factorization"
   ]
  },
  {
   "cell_type": "code",
   "execution_count": 64,
   "metadata": {},
   "outputs": [],
   "source": [
    "class MatrixFactorization(torch.nn.Module):\n",
    "    def __init__(self, n_users, n_items, n_factors=20):\n",
    "        super().__init__()\n",
    "        # create user embeddings\n",
    "        self.user_factors = torch.nn.Embedding(n_users, n_factors,\n",
    "                                               sparse=True)\n",
    "        # create item embeddings\n",
    "        self.item_factors = torch.nn.Embedding(n_items, n_factors,\n",
    "                                               sparse=True)\n",
    "\n",
    "    def forward(self, user, item):\n",
    "        # matrix multiplication\n",
    "        return (self.user_factors(user)*self.item_factors(item)).sum(1)\n",
    "\n",
    "    def predict(self, user, item):\n",
    "        return self.forward(user, item)"
   ]
  },
  {
   "cell_type": "markdown",
   "metadata": {},
   "source": [
    "## Neural Network"
   ]
  },
  {
   "cell_type": "code",
   "execution_count": 65,
   "metadata": {},
   "outputs": [],
   "source": [
    "class NeuralNetwork(nn.Module):\n",
    "\n",
    "    def __init__(self, n_users, n_items, n_factors, H1, D_out):\n",
    "        \"\"\"\n",
    "        Simple Feedforward with Embeddings\n",
    "        \"\"\"\n",
    "        super().__init__()\n",
    "        # user and item embedding layers\n",
    "        self.user_factors = torch.nn.Embedding(n_users, n_factors,\n",
    "                                               sparse=True)\n",
    "        self.item_factors = torch.nn.Embedding(n_items, n_factors,\n",
    "                                               sparse=True)\n",
    "        # linear layers\n",
    "        self.linear1 = torch.nn.Linear(n_factors*2, H1)\n",
    "        self.linear2 = torch.nn.Linear(H1, D_out)\n",
    "\n",
    "    def forward(self, users, items):\n",
    "        users_embedding = self.user_factors(users)\n",
    "        items_embedding = self.item_factors(items)\n",
    "        # concatenate user and item embeddings to form input\n",
    "        x = torch.cat([users_embedding, items_embedding], 1)\n",
    "        h1_relu = F.relu(self.linear1(x))\n",
    "        output_scores = self.linear2(h1_relu)\n",
    "        return output_scores\n",
    "\n",
    "    def predict(self, users, items):\n",
    "        # return the score\n",
    "        output_scores = self.forward(users, items)\n",
    "        return output_scores"
   ]
  },
  {
   "cell_type": "markdown",
   "metadata": {},
   "source": [
    "## Train the model"
   ]
  },
  {
   "cell_type": "code",
   "execution_count": 66,
   "metadata": {},
   "outputs": [],
   "source": [
    "def train_test(model, training_data, test_data, epoche, lr=1e-5):\n",
    "    loss_fn = torch.nn.MSELoss() \n",
    "    optimizer = torch.optim.SGD(model.parameters(),\n",
    "                            lr=lr)\n",
    "\n",
    "    # Sort our train and test data\n",
    "    training_data = np.array(training_data.toarray())\n",
    "    users_train, items_train = training_data.nonzero()\n",
    "    p = np.random.permutation(len(users_train))\n",
    "    users_train, items_train = users_train[p], items_train[p]\n",
    "    \n",
    "    test_data = np.array(test_data.toarray())\n",
    "    users_test, items_test = test_data.nonzero()\n",
    "    \n",
    "    mean_train_loss_hist = []\n",
    "    mean_test_loss_hist = []\n",
    "    for epoch in range(0, epoche):\n",
    "        train_loss_hist = []\n",
    "        test_loss_hist = []\n",
    "        #t = 0\n",
    "        #p = np.random.permutation(len(users))\n",
    "        #users, items = users[p], items[p]\n",
    "        for user, item in zip(*(users_train, items_train)):\n",
    "            #t = t + 1\n",
    "            # get user, item and rating data\n",
    "            rating = torch.FloatTensor([training_data[user, item]])\n",
    "            user = torch.LongTensor([int(user)])\n",
    "            item = torch.LongTensor([int(item)])\n",
    "    \n",
    "            # predict and calculate loss\n",
    "            prediction = model.forward(user, item).flatten()\n",
    "            loss = torch.sqrt(loss_fn(prediction, rating))\n",
    "    \n",
    "            # backpropagate\n",
    "            loss.backward()\n",
    "\n",
    "            # update weights\n",
    "            optimizer.step()\n",
    "    \n",
    "            # Loss\n",
    "            train_loss_hist.append(loss.item())\n",
    "        \n",
    "        for user, item in zip(*(users_test, items_test)):\n",
    "            # get user, item and rating data\n",
    "            rating_test = torch.FloatTensor([test_data[user, item]])\n",
    "            user = torch.LongTensor([int(user)])\n",
    "            item = torch.LongTensor([int(item)])\n",
    "    \n",
    "            # predict and calculate loss\n",
    "            prediction = model.forward(user, item).flatten()\n",
    "            loss = torch.sqrt(loss_fn(prediction, rating_test))\n",
    "            \n",
    "            # Loss\n",
    "            test_loss_hist.append(loss.item())\n",
    "            \n",
    "        mean_train_loss_hist.append(np.mean(train_loss_hist))\n",
    "        mean_test_loss_hist.append(np.mean(test_loss_hist))\n",
    "        \n",
    "        print('Epoch:[{}/{}], train loss : {:.4f}, test loss : {:.4f}'\\\n",
    "              .format(epoch+1, epoche, np.mean(train_loss_hist), np.mean(test_loss_hist)))\n",
    "        \n",
    "    # Plotting our test and val losses\n",
    "    fig, ax = plt.subplots(figsize=(15,10))\n",
    "    ax.plot(mean_train_loss_hist, label='train')\n",
    "    ax.plot(mean_test_loss_hist, label='test')\n",
    "    lines, labels = ax.get_legend_handles_labels()\n",
    "    ax.legend(lines, labels, loc='best')\n",
    "    #plt.ylim(0.2,0.8)\n",
    "    plt.show()"
   ]
  },
  {
   "cell_type": "code",
   "execution_count": 69,
   "metadata": {},
   "outputs": [],
   "source": [
    "H1 = 128\n",
    "D_out = 1\n",
    "model_nn = NeuralNetwork(n_users, n_items, n_factors=40, H1=H1, D_out=D_out)\n",
    "model_mf = MatrixFactorization(n_users, n_items, n_factors=20)"
   ]
  },
  {
   "cell_type": "code",
   "execution_count": 70,
   "metadata": {
    "scrolled": true
   },
   "outputs": [
    {
     "name": "stdout",
     "output_type": "stream",
     "text": [
      "Epoch:[1/1], train loss : 2.8026, test loss : 2.7149\n"
     ]
    },
    {
     "data": {
      "image/png": "[encoded data removed]",
      "text/plain": [
       "<Figure size 1080x720 with 1 Axes>"
      ]
     },
     "metadata": {},
     "output_type": "display_data"
    }
   ],
   "source": [
    "train_test(model_mf, training_data, test_data, 1)"
   ]
  },
  {
   "cell_type": "code",
   "execution_count": 71,
   "metadata": {},
   "outputs": [],
   "source": []
  },
  {
   "cell_type": "code",
   "execution_count": null,
   "metadata": {},
   "outputs": [],
   "source": [
    "train_test(model, training_data, test_data, 10)"
   ]
  },
  {
   "cell_type": "code",
   "execution_count": null,
   "metadata": {},
   "outputs": [],
   "source": []
  }
 ],
 "metadata": {
  "kernelspec": {
   "display_name": "Python 3",
   "language": "python",
   "name": "python3"
  },
  "language_info": {
   "codemirror_mode": {
    "name": "ipython",
    "version": 3
   },
   "file_extension": ".py",
   "mimetype": "text/x-python",
   "name": "python",
   "nbconvert_exporter": "python",
   "pygments_lexer": "ipython3",
   "version": "3.6.5"
  }
 },
 "nbformat": 4,
 "nbformat_minor": 2
}
